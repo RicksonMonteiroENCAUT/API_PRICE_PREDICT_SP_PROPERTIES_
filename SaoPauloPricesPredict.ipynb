{
  "nbformat": 4,
  "nbformat_minor": 0,
  "metadata": {
    "colab": {
      "name": "SaoPauloPricesPredict.ipynb",
      "provenance": [],
      "authorship_tag": "ABX9TyOddFSx5OoHs0/KrhAkI++O",
      "include_colab_link": true
    },
    "kernelspec": {
      "name": "python3",
      "display_name": "Python 3"
    },
    "language_info": {
      "name": "python"
    }
  },
  "cells": [
    {
      "cell_type": "markdown",
      "metadata": {
        "id": "view-in-github",
        "colab_type": "text"
      },
      "source": [
        "<a href=\"https://colab.research.google.com/github/RicksonMonteiroENCAUT/API_PRICE_PREDICT_SP_PROPERTIES_/blob/master/SaoPauloPricesPredict.ipynb\" target=\"_parent\"><img src=\"https://colab.research.google.com/assets/colab-badge.svg\" alt=\"Open In Colab\"/></a>"
      ]
    },
    {
      "cell_type": "markdown",
      "metadata": {
        "id": "IcvHyTyNoDok"
      },
      "source": [
        "#Download dataset"
      ]
    },
    {
      "cell_type": "code",
      "metadata": {
        "colab": {
          "base_uri": "https://localhost:8080/"
        },
        "id": "TpNrEkIkWaZn",
        "outputId": "2e584c42-105f-46c7-9732-feb81fa391bd"
      },
      "source": [
        "!pip install kaggle"
      ],
      "execution_count": 1,
      "outputs": [
        {
          "output_type": "stream",
          "text": [
            "Requirement already satisfied: kaggle in /usr/local/lib/python3.7/dist-packages (1.5.12)\n",
            "Requirement already satisfied: certifi in /usr/local/lib/python3.7/dist-packages (from kaggle) (2020.12.5)\n",
            "Requirement already satisfied: tqdm in /usr/local/lib/python3.7/dist-packages (from kaggle) (4.41.1)\n",
            "Requirement already satisfied: requests in /usr/local/lib/python3.7/dist-packages (from kaggle) (2.23.0)\n",
            "Requirement already satisfied: python-slugify in /usr/local/lib/python3.7/dist-packages (from kaggle) (4.0.1)\n",
            "Requirement already satisfied: six>=1.10 in /usr/local/lib/python3.7/dist-packages (from kaggle) (1.15.0)\n",
            "Requirement already satisfied: urllib3 in /usr/local/lib/python3.7/dist-packages (from kaggle) (1.24.3)\n",
            "Requirement already satisfied: python-dateutil in /usr/local/lib/python3.7/dist-packages (from kaggle) (2.8.1)\n",
            "Requirement already satisfied: idna<3,>=2.5 in /usr/local/lib/python3.7/dist-packages (from requests->kaggle) (2.10)\n",
            "Requirement already satisfied: chardet<4,>=3.0.2 in /usr/local/lib/python3.7/dist-packages (from requests->kaggle) (3.0.4)\n",
            "Requirement already satisfied: text-unidecode>=1.3 in /usr/local/lib/python3.7/dist-packages (from python-slugify->kaggle) (1.3)\n"
          ],
          "name": "stdout"
        }
      ]
    },
    {
      "cell_type": "code",
      "metadata": {
        "id": "w6pOOZjVWywA"
      },
      "source": [
        "!cp /content/kaggle.json ~/.kaggle/kaggle.json"
      ],
      "execution_count": 6,
      "outputs": []
    },
    {
      "cell_type": "code",
      "metadata": {
        "colab": {
          "base_uri": "https://localhost:8080/"
        },
        "id": "b6_utUuIXgM7",
        "outputId": "5be5efb2-4353-406e-e184-b916dc46b4a1"
      },
      "source": [
        "!kaggle datasets download \"argonalyst/sao-paulo-real-estate-sale-rent-april-2019\""
      ],
      "execution_count": 8,
      "outputs": [
        {
          "output_type": "stream",
          "text": [
            "Warning: Your Kaggle API key is readable by other users on this system! To fix this, you can run 'chmod 600 /root/.kaggle/kaggle.json'\n",
            "Downloading sao-paulo-real-estate-sale-rent-april-2019.zip to /content\n",
            "  0% 0.00/206k [00:00<?, ?B/s]\n",
            "100% 206k/206k [00:00<00:00, 33.6MB/s]\n"
          ],
          "name": "stdout"
        }
      ]
    },
    {
      "cell_type": "code",
      "metadata": {
        "colab": {
          "base_uri": "https://localhost:8080/"
        },
        "id": "noifcVyCXqun",
        "outputId": "80d59c47-8a2c-4e77-f424-c8b12e42d229"
      },
      "source": [
        "!unzip sao-paulo-real-estate-sale-rent-april-2019"
      ],
      "execution_count": 10,
      "outputs": [
        {
          "output_type": "stream",
          "text": [
            "Archive:  sao-paulo-real-estate-sale-rent-april-2019.zip\n",
            "  inflating: sao-paulo-properties-april-2019.csv  \n"
          ],
          "name": "stdout"
        }
      ]
    },
    {
      "cell_type": "markdown",
      "metadata": {
        "id": "jAZsLYefoKcO"
      },
      "source": [
        "#Importando libs"
      ]
    },
    {
      "cell_type": "code",
      "metadata": {
        "id": "gMKozCLkXy6w"
      },
      "source": [
        "import pandas as pd\n",
        "import numpy as np\n",
        "import matplotlib.pyplot as plt\n",
        "import seaborn as sns\n",
        "from sklearn.pipeline import Pipeline\n",
        "from xgboost import XGBRegressor\n",
        "from sklearn.preprocessing import StandardScaler\n",
        "from sklearn.model_selection import train_test_split, GridSearchCV\n",
        "from sklearn.metrics import r2_score, mean_squared_error, mean_absolute_error\n",
        "from pickle import dump\n",
        "\n",
        "\n",
        "sns.set_style('darkgrid')"
      ],
      "execution_count": 154,
      "outputs": []
    },
    {
      "cell_type": "code",
      "metadata": {
        "id": "C4wOBzV0dnCo"
      },
      "source": [
        "df = pd.read_csv('/content/sao-paulo-properties-april-2019.csv')"
      ],
      "execution_count": 46,
      "outputs": []
    },
    {
      "cell_type": "code",
      "metadata": {
        "colab": {
          "base_uri": "https://localhost:8080/",
          "height": 400
        },
        "id": "f1wRj7KgYAJw",
        "outputId": "02e7e832-d1bb-494b-ab40-4e1fe7305674"
      },
      "source": [
        "df.head()"
      ],
      "execution_count": 48,
      "outputs": [
        {
          "output_type": "execute_result",
          "data": {
            "text/html": [
              "<div>\n",
              "<style scoped>\n",
              "    .dataframe tbody tr th:only-of-type {\n",
              "        vertical-align: middle;\n",
              "    }\n",
              "\n",
              "    .dataframe tbody tr th {\n",
              "        vertical-align: top;\n",
              "    }\n",
              "\n",
              "    .dataframe thead th {\n",
              "        text-align: right;\n",
              "    }\n",
              "</style>\n",
              "<table border=\"1\" class=\"dataframe\">\n",
              "  <thead>\n",
              "    <tr style=\"text-align: right;\">\n",
              "      <th></th>\n",
              "      <th>Price</th>\n",
              "      <th>Condo</th>\n",
              "      <th>Size</th>\n",
              "      <th>Rooms</th>\n",
              "      <th>Toilets</th>\n",
              "      <th>Suites</th>\n",
              "      <th>Parking</th>\n",
              "      <th>Elevator</th>\n",
              "      <th>Furnished</th>\n",
              "      <th>Swimming Pool</th>\n",
              "      <th>New</th>\n",
              "      <th>District</th>\n",
              "      <th>Negotiation Type</th>\n",
              "      <th>Property Type</th>\n",
              "      <th>Latitude</th>\n",
              "      <th>Longitude</th>\n",
              "    </tr>\n",
              "  </thead>\n",
              "  <tbody>\n",
              "    <tr>\n",
              "      <th>0</th>\n",
              "      <td>930</td>\n",
              "      <td>220</td>\n",
              "      <td>47</td>\n",
              "      <td>2</td>\n",
              "      <td>2</td>\n",
              "      <td>1</td>\n",
              "      <td>1</td>\n",
              "      <td>0</td>\n",
              "      <td>0</td>\n",
              "      <td>0</td>\n",
              "      <td>0</td>\n",
              "      <td>Artur Alvim/São Paulo</td>\n",
              "      <td>rent</td>\n",
              "      <td>apartment</td>\n",
              "      <td>-23.543138</td>\n",
              "      <td>-46.479486</td>\n",
              "    </tr>\n",
              "    <tr>\n",
              "      <th>1</th>\n",
              "      <td>1000</td>\n",
              "      <td>148</td>\n",
              "      <td>45</td>\n",
              "      <td>2</td>\n",
              "      <td>2</td>\n",
              "      <td>1</td>\n",
              "      <td>1</td>\n",
              "      <td>0</td>\n",
              "      <td>0</td>\n",
              "      <td>0</td>\n",
              "      <td>0</td>\n",
              "      <td>Artur Alvim/São Paulo</td>\n",
              "      <td>rent</td>\n",
              "      <td>apartment</td>\n",
              "      <td>-23.550239</td>\n",
              "      <td>-46.480718</td>\n",
              "    </tr>\n",
              "    <tr>\n",
              "      <th>2</th>\n",
              "      <td>1000</td>\n",
              "      <td>100</td>\n",
              "      <td>48</td>\n",
              "      <td>2</td>\n",
              "      <td>2</td>\n",
              "      <td>1</td>\n",
              "      <td>1</td>\n",
              "      <td>0</td>\n",
              "      <td>0</td>\n",
              "      <td>0</td>\n",
              "      <td>0</td>\n",
              "      <td>Artur Alvim/São Paulo</td>\n",
              "      <td>rent</td>\n",
              "      <td>apartment</td>\n",
              "      <td>-23.542818</td>\n",
              "      <td>-46.485665</td>\n",
              "    </tr>\n",
              "    <tr>\n",
              "      <th>3</th>\n",
              "      <td>1000</td>\n",
              "      <td>200</td>\n",
              "      <td>48</td>\n",
              "      <td>2</td>\n",
              "      <td>2</td>\n",
              "      <td>1</td>\n",
              "      <td>1</td>\n",
              "      <td>0</td>\n",
              "      <td>0</td>\n",
              "      <td>0</td>\n",
              "      <td>0</td>\n",
              "      <td>Artur Alvim/São Paulo</td>\n",
              "      <td>rent</td>\n",
              "      <td>apartment</td>\n",
              "      <td>-23.547171</td>\n",
              "      <td>-46.483014</td>\n",
              "    </tr>\n",
              "    <tr>\n",
              "      <th>4</th>\n",
              "      <td>1300</td>\n",
              "      <td>410</td>\n",
              "      <td>55</td>\n",
              "      <td>2</td>\n",
              "      <td>2</td>\n",
              "      <td>1</td>\n",
              "      <td>1</td>\n",
              "      <td>1</td>\n",
              "      <td>0</td>\n",
              "      <td>0</td>\n",
              "      <td>0</td>\n",
              "      <td>Artur Alvim/São Paulo</td>\n",
              "      <td>rent</td>\n",
              "      <td>apartment</td>\n",
              "      <td>-23.525025</td>\n",
              "      <td>-46.482436</td>\n",
              "    </tr>\n",
              "  </tbody>\n",
              "</table>\n",
              "</div>"
            ],
            "text/plain": [
              "   Price  Condo  Size  ...  Property Type   Latitude  Longitude\n",
              "0    930    220    47  ...      apartment -23.543138 -46.479486\n",
              "1   1000    148    45  ...      apartment -23.550239 -46.480718\n",
              "2   1000    100    48  ...      apartment -23.542818 -46.485665\n",
              "3   1000    200    48  ...      apartment -23.547171 -46.483014\n",
              "4   1300    410    55  ...      apartment -23.525025 -46.482436\n",
              "\n",
              "[5 rows x 16 columns]"
            ]
          },
          "metadata": {
            "tags": []
          },
          "execution_count": 48
        }
      ]
    },
    {
      "cell_type": "markdown",
      "metadata": {
        "id": "NOCliftTYPc4"
      },
      "source": [
        "# Dicionário de variáveis\n",
        "\n",
        "`Price` - preço\n",
        "\n",
        "`Condo` - Despezas de condomínio\n",
        "\n",
        "`Size` - O tamanho da propriedade em metros quadrados m² (somente áreas privadas)\n",
        "\n",
        "`Rooms` - Quantidade de quartos\n",
        "\n",
        "`Toilets`- Número de banheiros\n",
        "\n",
        "`Suites`- Número de suítes\n",
        "\n",
        "`Parking`- Número de vagas de estacionamento\n",
        "\n",
        "`Elevator`- Se possui elevador na construção ou não\n",
        "\n",
        "`Furnished`- Casa mobiliada ou não\n",
        "\n",
        "`Swimming Pool`- Se possui piscina ou não\n",
        "\n",
        "`New` - Nova ou não\n",
        "\n",
        "`District` - Tipo de negociação (Aluguel ou Venda)\n",
        "\n",
        "`Property Type` - Tipo de propiedade\n",
        "\n",
        "`Longitude` - Longitude\n",
        "\n",
        "`Latidude` - Latitude"
      ]
    },
    {
      "cell_type": "code",
      "metadata": {
        "colab": {
          "base_uri": "https://localhost:8080/"
        },
        "id": "64WVcwWmbU7E",
        "outputId": "6a796885-8363-4588-fb89-8e5e6d43594f"
      },
      "source": [
        "df.shape"
      ],
      "execution_count": 49,
      "outputs": [
        {
          "output_type": "execute_result",
          "data": {
            "text/plain": [
              "(13640, 16)"
            ]
          },
          "metadata": {
            "tags": []
          },
          "execution_count": 49
        }
      ]
    },
    {
      "cell_type": "markdown",
      "metadata": {
        "id": "0Gyeb_K0FQ-X"
      },
      "source": [
        "Conjunto possui 13640 entradas e 16 colunas."
      ]
    },
    {
      "cell_type": "markdown",
      "metadata": {
        "id": "FTRq7j7QoYwO"
      },
      "source": [
        "#Data clean"
      ]
    },
    {
      "cell_type": "code",
      "metadata": {
        "colab": {
          "base_uri": "https://localhost:8080/"
        },
        "id": "RNUCVl_1b1KE",
        "outputId": "704fa59c-6762-41b5-90fe-1672ba979756"
      },
      "source": [
        "df.isnull().sum()"
      ],
      "execution_count": 50,
      "outputs": [
        {
          "output_type": "execute_result",
          "data": {
            "text/plain": [
              "Price               0\n",
              "Condo               0\n",
              "Size                0\n",
              "Rooms               0\n",
              "Toilets             0\n",
              "Suites              0\n",
              "Parking             0\n",
              "Elevator            0\n",
              "Furnished           0\n",
              "Swimming Pool       0\n",
              "New                 0\n",
              "District            0\n",
              "Negotiation Type    0\n",
              "Property Type       0\n",
              "Latitude            0\n",
              "Longitude           0\n",
              "dtype: int64"
            ]
          },
          "metadata": {
            "tags": []
          },
          "execution_count": 50
        }
      ]
    },
    {
      "cell_type": "code",
      "metadata": {
        "colab": {
          "base_uri": "https://localhost:8080/"
        },
        "id": "Ju85olrwc7NP",
        "outputId": "8aa57eea-b6fd-40c0-8098-94eed249bf73"
      },
      "source": [
        "df.dtypes"
      ],
      "execution_count": 51,
      "outputs": [
        {
          "output_type": "execute_result",
          "data": {
            "text/plain": [
              "Price                 int64\n",
              "Condo                 int64\n",
              "Size                  int64\n",
              "Rooms                 int64\n",
              "Toilets               int64\n",
              "Suites                int64\n",
              "Parking               int64\n",
              "Elevator              int64\n",
              "Furnished             int64\n",
              "Swimming Pool         int64\n",
              "New                   int64\n",
              "District             object\n",
              "Negotiation Type     object\n",
              "Property Type        object\n",
              "Latitude            float64\n",
              "Longitude           float64\n",
              "dtype: object"
            ]
          },
          "metadata": {
            "tags": []
          },
          "execution_count": 51
        }
      ]
    },
    {
      "cell_type": "code",
      "metadata": {
        "colab": {
          "base_uri": "https://localhost:8080/"
        },
        "id": "EJaxo6PcdTsO",
        "outputId": "0fb0c4f6-13e2-45fc-f42b-b5cedf6f34b0"
      },
      "source": [
        "df['Parking'].unique()"
      ],
      "execution_count": 52,
      "outputs": [
        {
          "output_type": "execute_result",
          "data": {
            "text/plain": [
              "array([1, 2, 3, 4, 5, 6, 8, 9, 0, 7])"
            ]
          },
          "metadata": {
            "tags": []
          },
          "execution_count": 52
        }
      ]
    },
    {
      "cell_type": "code",
      "metadata": {
        "id": "gSDWzeVfb-6d"
      },
      "source": [
        "def outlier_tratament(serie):\n",
        "  Q1, Q3 = serie.quantile([.25,.75])\n",
        "  IQR =Q3-Q1\n",
        "          #(lower_limit, upper_limit)\n",
        "  return  (Q1 -(1.5*IQR), Q3 + (1.5*IQR))"
      ],
      "execution_count": 53,
      "outputs": []
    },
    {
      "cell_type": "code",
      "metadata": {
        "colab": {
          "base_uri": "https://localhost:8080/",
          "height": 296
        },
        "id": "ccP3dIkmb9oa",
        "outputId": "b4b8ee32-96d6-43a1-a1ce-d2310dcf1946"
      },
      "source": [
        "sns.boxplot(x='Price', data=df)"
      ],
      "execution_count": 54,
      "outputs": [
        {
          "output_type": "execute_result",
          "data": {
            "text/plain": [
              "<matplotlib.axes._subplots.AxesSubplot at 0x7f84d66dacd0>"
            ]
          },
          "metadata": {
            "tags": []
          },
          "execution_count": 54
        },
        {
          "output_type": "display_data",
          "data": {
            "image/png": "[encoded data removed]",
            "text/plain": [
              "<Figure size 432x288 with 1 Axes>"
            ]
          },
          "metadata": {
            "tags": []
          }
        }
      ]
    },
    {
      "cell_type": "code",
      "metadata": {
        "id": "14GqJncJekPn"
      },
      "source": [
        "lower, upper = outlier_tratament(df.Price)"
      ],
      "execution_count": 55,
      "outputs": []
    },
    {
      "cell_type": "code",
      "metadata": {
        "colab": {
          "base_uri": "https://localhost:8080/"
        },
        "id": "Cw4EN8hXe5vu",
        "outputId": "c6fd153e-c206-4a18-8466-6bd933fe2c44"
      },
      "source": [
        "print(lower, upper)"
      ],
      "execution_count": 56,
      "outputs": [
        {
          "output_type": "stream",
          "text": [
            "-535353.125 897211.875\n"
          ],
          "name": "stdout"
        }
      ]
    },
    {
      "cell_type": "code",
      "metadata": {
        "colab": {
          "base_uri": "https://localhost:8080/",
          "height": 400
        },
        "id": "S2b4_6VJd9kp",
        "outputId": "95692a1a-f284-4b58-8295-5d471d14eeeb"
      },
      "source": [
        "df_clean = df.loc[(df.Price>lower) & (df.Price<upper)].copy()\n",
        "df_clean.head()"
      ],
      "execution_count": 57,
      "outputs": [
        {
          "output_type": "execute_result",
          "data": {
            "text/html": [
              "<div>\n",
              "<style scoped>\n",
              "    .dataframe tbody tr th:only-of-type {\n",
              "        vertical-align: middle;\n",
              "    }\n",
              "\n",
              "    .dataframe tbody tr th {\n",
              "        vertical-align: top;\n",
              "    }\n",
              "\n",
              "    .dataframe thead th {\n",
              "        text-align: right;\n",
              "    }\n",
              "</style>\n",
              "<table border=\"1\" class=\"dataframe\">\n",
              "  <thead>\n",
              "    <tr style=\"text-align: right;\">\n",
              "      <th></th>\n",
              "      <th>Price</th>\n",
              "      <th>Condo</th>\n",
              "      <th>Size</th>\n",
              "      <th>Rooms</th>\n",
              "      <th>Toilets</th>\n",
              "      <th>Suites</th>\n",
              "      <th>Parking</th>\n",
              "      <th>Elevator</th>\n",
              "      <th>Furnished</th>\n",
              "      <th>Swimming Pool</th>\n",
              "      <th>New</th>\n",
              "      <th>District</th>\n",
              "      <th>Negotiation Type</th>\n",
              "      <th>Property Type</th>\n",
              "      <th>Latitude</th>\n",
              "      <th>Longitude</th>\n",
              "    </tr>\n",
              "  </thead>\n",
              "  <tbody>\n",
              "    <tr>\n",
              "      <th>0</th>\n",
              "      <td>930</td>\n",
              "      <td>220</td>\n",
              "      <td>47</td>\n",
              "      <td>2</td>\n",
              "      <td>2</td>\n",
              "      <td>1</td>\n",
              "      <td>1</td>\n",
              "      <td>0</td>\n",
              "      <td>0</td>\n",
              "      <td>0</td>\n",
              "      <td>0</td>\n",
              "      <td>Artur Alvim/São Paulo</td>\n",
              "      <td>rent</td>\n",
              "      <td>apartment</td>\n",
              "      <td>-23.543138</td>\n",
              "      <td>-46.479486</td>\n",
              "    </tr>\n",
              "    <tr>\n",
              "      <th>1</th>\n",
              "      <td>1000</td>\n",
              "      <td>148</td>\n",
              "      <td>45</td>\n",
              "      <td>2</td>\n",
              "      <td>2</td>\n",
              "      <td>1</td>\n",
              "      <td>1</td>\n",
              "      <td>0</td>\n",
              "      <td>0</td>\n",
              "      <td>0</td>\n",
              "      <td>0</td>\n",
              "      <td>Artur Alvim/São Paulo</td>\n",
              "      <td>rent</td>\n",
              "      <td>apartment</td>\n",
              "      <td>-23.550239</td>\n",
              "      <td>-46.480718</td>\n",
              "    </tr>\n",
              "    <tr>\n",
              "      <th>2</th>\n",
              "      <td>1000</td>\n",
              "      <td>100</td>\n",
              "      <td>48</td>\n",
              "      <td>2</td>\n",
              "      <td>2</td>\n",
              "      <td>1</td>\n",
              "      <td>1</td>\n",
              "      <td>0</td>\n",
              "      <td>0</td>\n",
              "      <td>0</td>\n",
              "      <td>0</td>\n",
              "      <td>Artur Alvim/São Paulo</td>\n",
              "      <td>rent</td>\n",
              "      <td>apartment</td>\n",
              "      <td>-23.542818</td>\n",
              "      <td>-46.485665</td>\n",
              "    </tr>\n",
              "    <tr>\n",
              "      <th>3</th>\n",
              "      <td>1000</td>\n",
              "      <td>200</td>\n",
              "      <td>48</td>\n",
              "      <td>2</td>\n",
              "      <td>2</td>\n",
              "      <td>1</td>\n",
              "      <td>1</td>\n",
              "      <td>0</td>\n",
              "      <td>0</td>\n",
              "      <td>0</td>\n",
              "      <td>0</td>\n",
              "      <td>Artur Alvim/São Paulo</td>\n",
              "      <td>rent</td>\n",
              "      <td>apartment</td>\n",
              "      <td>-23.547171</td>\n",
              "      <td>-46.483014</td>\n",
              "    </tr>\n",
              "    <tr>\n",
              "      <th>4</th>\n",
              "      <td>1300</td>\n",
              "      <td>410</td>\n",
              "      <td>55</td>\n",
              "      <td>2</td>\n",
              "      <td>2</td>\n",
              "      <td>1</td>\n",
              "      <td>1</td>\n",
              "      <td>1</td>\n",
              "      <td>0</td>\n",
              "      <td>0</td>\n",
              "      <td>0</td>\n",
              "      <td>Artur Alvim/São Paulo</td>\n",
              "      <td>rent</td>\n",
              "      <td>apartment</td>\n",
              "      <td>-23.525025</td>\n",
              "      <td>-46.482436</td>\n",
              "    </tr>\n",
              "  </tbody>\n",
              "</table>\n",
              "</div>"
            ],
            "text/plain": [
              "   Price  Condo  Size  ...  Property Type   Latitude  Longitude\n",
              "0    930    220    47  ...      apartment -23.543138 -46.479486\n",
              "1   1000    148    45  ...      apartment -23.550239 -46.480718\n",
              "2   1000    100    48  ...      apartment -23.542818 -46.485665\n",
              "3   1000    200    48  ...      apartment -23.547171 -46.483014\n",
              "4   1300    410    55  ...      apartment -23.525025 -46.482436\n",
              "\n",
              "[5 rows x 16 columns]"
            ]
          },
          "metadata": {
            "tags": []
          },
          "execution_count": 57
        }
      ]
    },
    {
      "cell_type": "code",
      "metadata": {
        "colab": {
          "base_uri": "https://localhost:8080/",
          "height": 296
        },
        "id": "bXnVquu1e4Qb",
        "outputId": "d8de1817-adc2-4e54-e28b-7c284eb4a622"
      },
      "source": [
        "sns.boxplot(x='Price', data=df_clean)"
      ],
      "execution_count": 58,
      "outputs": [
        {
          "output_type": "execute_result",
          "data": {
            "text/plain": [
              "<matplotlib.axes._subplots.AxesSubplot at 0x7f84cc968950>"
            ]
          },
          "metadata": {
            "tags": []
          },
          "execution_count": 58
        },
        {
          "output_type": "display_data",
          "data": {
            "image/png": "[encoded data removed]",
            "text/plain": [
              "<Figure size 432x288 with 1 Axes>"
            ]
          },
          "metadata": {
            "tags": []
          }
        }
      ]
    },
    {
      "cell_type": "markdown",
      "metadata": {
        "id": "MGG3-sjwFZlo"
      },
      "source": [
        "Não foi encontrados valores ausentes nas variáveis, entranto a variável alvo (Prices) apresentou muitos outliers. Foi possível remover alguns utilizando a técnica de IQR score."
      ]
    },
    {
      "cell_type": "code",
      "metadata": {
        "colab": {
          "base_uri": "https://localhost:8080/",
          "height": 461
        },
        "id": "bWYVnB8-gMIZ",
        "outputId": "7bb841f8-23af-46e2-fb77-10a3d207ec85"
      },
      "source": [
        "plt.figure(figsize=(12,6))\n",
        "sns.heatmap(df_clean.corr(), annot=True, fmt='.2f')"
      ],
      "execution_count": 67,
      "outputs": [
        {
          "output_type": "execute_result",
          "data": {
            "text/plain": [
              "<matplotlib.axes._subplots.AxesSubplot at 0x7f84c2028350>"
            ]
          },
          "metadata": {
            "tags": []
          },
          "execution_count": 67
        },
        {
          "output_type": "display_data",
          "data": {
            "image/png": "[encoded data removed]",
            "text/plain": [
              "<Figure size 864x432 with 2 Axes>"
            ]
          },
          "metadata": {
            "tags": []
          }
        }
      ]
    },
    {
      "cell_type": "markdown",
      "metadata": {
        "id": "VaAkO_g-ocaa"
      },
      "source": [
        "#Feature Engineering"
      ]
    },
    {
      "cell_type": "code",
      "metadata": {
        "id": "cmAWcDD5fNFp"
      },
      "source": [
        "df_clean['price_per_m2'] = df_clean['Price']/df_clean['Size'] "
      ],
      "execution_count": 59,
      "outputs": []
    },
    {
      "cell_type": "code",
      "metadata": {
        "colab": {
          "base_uri": "https://localhost:8080/",
          "height": 297
        },
        "id": "SpAIfByCf4-a",
        "outputId": "64169125-7e04-4b80-dd94-83cce7579d7a"
      },
      "source": [
        "sns.boxplot(x='price_per_m2', data=df_clean)"
      ],
      "execution_count": 60,
      "outputs": [
        {
          "output_type": "execute_result",
          "data": {
            "text/plain": [
              "<matplotlib.axes._subplots.AxesSubplot at 0x7f84cc8ff290>"
            ]
          },
          "metadata": {
            "tags": []
          },
          "execution_count": 60
        },
        {
          "output_type": "display_data",
          "data": {
            "image/png": "[encoded data removed]",
            "text/plain": [
              "<Figure size 432x288 with 1 Axes>"
            ]
          },
          "metadata": {
            "tags": []
          }
        }
      ]
    },
    {
      "cell_type": "code",
      "metadata": {
        "colab": {
          "base_uri": "https://localhost:8080/"
        },
        "id": "7-DYwIZhf-2B",
        "outputId": "4803c489-73ef-4df0-80b4-a3347d51416c"
      },
      "source": [
        "df_clean.shape"
      ],
      "execution_count": 62,
      "outputs": [
        {
          "output_type": "execute_result",
          "data": {
            "text/plain": [
              "(12617, 17)"
            ]
          },
          "metadata": {
            "tags": []
          },
          "execution_count": 62
        }
      ]
    },
    {
      "cell_type": "code",
      "metadata": {
        "colab": {
          "base_uri": "https://localhost:8080/"
        },
        "id": "QJAVZslPgFRQ",
        "outputId": "c5473eb8-df12-4961-f133-75ef14090c7d"
      },
      "source": [
        "df_clean['Parking'].unique()"
      ],
      "execution_count": 63,
      "outputs": [
        {
          "output_type": "execute_result",
          "data": {
            "text/plain": [
              "array([1, 2, 3, 4, 5, 6, 8, 9, 0, 7])"
            ]
          },
          "metadata": {
            "tags": []
          },
          "execution_count": 63
        }
      ]
    },
    {
      "cell_type": "code",
      "metadata": {
        "id": "H2zsVa4FgavV"
      },
      "source": [
        "df_clean['District']=df_clean['District'].apply(lambda x: x.split('/')[0])"
      ],
      "execution_count": 68,
      "outputs": []
    },
    {
      "cell_type": "code",
      "metadata": {
        "colab": {
          "base_uri": "https://localhost:8080/",
          "height": 539
        },
        "id": "3_KPqLwehc-E",
        "outputId": "cfa227ee-ff5b-4148-e049-6498d8e13378"
      },
      "source": [
        "df_clean"
      ],
      "execution_count": 69,
      "outputs": [
        {
          "output_type": "execute_result",
          "data": {
            "text/html": [
              "<div>\n",
              "<style scoped>\n",
              "    .dataframe tbody tr th:only-of-type {\n",
              "        vertical-align: middle;\n",
              "    }\n",
              "\n",
              "    .dataframe tbody tr th {\n",
              "        vertical-align: top;\n",
              "    }\n",
              "\n",
              "    .dataframe thead th {\n",
              "        text-align: right;\n",
              "    }\n",
              "</style>\n",
              "<table border=\"1\" class=\"dataframe\">\n",
              "  <thead>\n",
              "    <tr style=\"text-align: right;\">\n",
              "      <th></th>\n",
              "      <th>Price</th>\n",
              "      <th>Condo</th>\n",
              "      <th>Size</th>\n",
              "      <th>Rooms</th>\n",
              "      <th>Toilets</th>\n",
              "      <th>Suites</th>\n",
              "      <th>Parking</th>\n",
              "      <th>Elevator</th>\n",
              "      <th>Furnished</th>\n",
              "      <th>Swimming Pool</th>\n",
              "      <th>New</th>\n",
              "      <th>District</th>\n",
              "      <th>Negotiation Type</th>\n",
              "      <th>Property Type</th>\n",
              "      <th>Latitude</th>\n",
              "      <th>Longitude</th>\n",
              "      <th>price_per_m2</th>\n",
              "    </tr>\n",
              "  </thead>\n",
              "  <tbody>\n",
              "    <tr>\n",
              "      <th>0</th>\n",
              "      <td>930</td>\n",
              "      <td>220</td>\n",
              "      <td>47</td>\n",
              "      <td>2</td>\n",
              "      <td>2</td>\n",
              "      <td>1</td>\n",
              "      <td>1</td>\n",
              "      <td>0</td>\n",
              "      <td>0</td>\n",
              "      <td>0</td>\n",
              "      <td>0</td>\n",
              "      <td>Artur Alvim</td>\n",
              "      <td>rent</td>\n",
              "      <td>apartment</td>\n",
              "      <td>-23.543138</td>\n",
              "      <td>-46.479486</td>\n",
              "      <td>19.787234</td>\n",
              "    </tr>\n",
              "    <tr>\n",
              "      <th>1</th>\n",
              "      <td>1000</td>\n",
              "      <td>148</td>\n",
              "      <td>45</td>\n",
              "      <td>2</td>\n",
              "      <td>2</td>\n",
              "      <td>1</td>\n",
              "      <td>1</td>\n",
              "      <td>0</td>\n",
              "      <td>0</td>\n",
              "      <td>0</td>\n",
              "      <td>0</td>\n",
              "      <td>Artur Alvim</td>\n",
              "      <td>rent</td>\n",
              "      <td>apartment</td>\n",
              "      <td>-23.550239</td>\n",
              "      <td>-46.480718</td>\n",
              "      <td>22.222222</td>\n",
              "    </tr>\n",
              "    <tr>\n",
              "      <th>2</th>\n",
              "      <td>1000</td>\n",
              "      <td>100</td>\n",
              "      <td>48</td>\n",
              "      <td>2</td>\n",
              "      <td>2</td>\n",
              "      <td>1</td>\n",
              "      <td>1</td>\n",
              "      <td>0</td>\n",
              "      <td>0</td>\n",
              "      <td>0</td>\n",
              "      <td>0</td>\n",
              "      <td>Artur Alvim</td>\n",
              "      <td>rent</td>\n",
              "      <td>apartment</td>\n",
              "      <td>-23.542818</td>\n",
              "      <td>-46.485665</td>\n",
              "      <td>20.833333</td>\n",
              "    </tr>\n",
              "    <tr>\n",
              "      <th>3</th>\n",
              "      <td>1000</td>\n",
              "      <td>200</td>\n",
              "      <td>48</td>\n",
              "      <td>2</td>\n",
              "      <td>2</td>\n",
              "      <td>1</td>\n",
              "      <td>1</td>\n",
              "      <td>0</td>\n",
              "      <td>0</td>\n",
              "      <td>0</td>\n",
              "      <td>0</td>\n",
              "      <td>Artur Alvim</td>\n",
              "      <td>rent</td>\n",
              "      <td>apartment</td>\n",
              "      <td>-23.547171</td>\n",
              "      <td>-46.483014</td>\n",
              "      <td>20.833333</td>\n",
              "    </tr>\n",
              "    <tr>\n",
              "      <th>4</th>\n",
              "      <td>1300</td>\n",
              "      <td>410</td>\n",
              "      <td>55</td>\n",
              "      <td>2</td>\n",
              "      <td>2</td>\n",
              "      <td>1</td>\n",
              "      <td>1</td>\n",
              "      <td>1</td>\n",
              "      <td>0</td>\n",
              "      <td>0</td>\n",
              "      <td>0</td>\n",
              "      <td>Artur Alvim</td>\n",
              "      <td>rent</td>\n",
              "      <td>apartment</td>\n",
              "      <td>-23.525025</td>\n",
              "      <td>-46.482436</td>\n",
              "      <td>23.636364</td>\n",
              "    </tr>\n",
              "    <tr>\n",
              "      <th>...</th>\n",
              "      <td>...</td>\n",
              "      <td>...</td>\n",
              "      <td>...</td>\n",
              "      <td>...</td>\n",
              "      <td>...</td>\n",
              "      <td>...</td>\n",
              "      <td>...</td>\n",
              "      <td>...</td>\n",
              "      <td>...</td>\n",
              "      <td>...</td>\n",
              "      <td>...</td>\n",
              "      <td>...</td>\n",
              "      <td>...</td>\n",
              "      <td>...</td>\n",
              "      <td>...</td>\n",
              "      <td>...</td>\n",
              "      <td>...</td>\n",
              "    </tr>\n",
              "    <tr>\n",
              "      <th>13635</th>\n",
              "      <td>265000</td>\n",
              "      <td>420</td>\n",
              "      <td>51</td>\n",
              "      <td>2</td>\n",
              "      <td>1</td>\n",
              "      <td>0</td>\n",
              "      <td>1</td>\n",
              "      <td>0</td>\n",
              "      <td>0</td>\n",
              "      <td>0</td>\n",
              "      <td>0</td>\n",
              "      <td>Jabaquara</td>\n",
              "      <td>sale</td>\n",
              "      <td>apartment</td>\n",
              "      <td>-23.653004</td>\n",
              "      <td>-46.635463</td>\n",
              "      <td>5196.078431</td>\n",
              "    </tr>\n",
              "    <tr>\n",
              "      <th>13636</th>\n",
              "      <td>545000</td>\n",
              "      <td>630</td>\n",
              "      <td>74</td>\n",
              "      <td>3</td>\n",
              "      <td>2</td>\n",
              "      <td>1</td>\n",
              "      <td>2</td>\n",
              "      <td>0</td>\n",
              "      <td>0</td>\n",
              "      <td>1</td>\n",
              "      <td>0</td>\n",
              "      <td>Jabaquara</td>\n",
              "      <td>sale</td>\n",
              "      <td>apartment</td>\n",
              "      <td>-23.648930</td>\n",
              "      <td>-46.641982</td>\n",
              "      <td>7364.864865</td>\n",
              "    </tr>\n",
              "    <tr>\n",
              "      <th>13637</th>\n",
              "      <td>515000</td>\n",
              "      <td>1100</td>\n",
              "      <td>114</td>\n",
              "      <td>3</td>\n",
              "      <td>3</td>\n",
              "      <td>1</td>\n",
              "      <td>1</td>\n",
              "      <td>0</td>\n",
              "      <td>0</td>\n",
              "      <td>1</td>\n",
              "      <td>0</td>\n",
              "      <td>Jabaquara</td>\n",
              "      <td>sale</td>\n",
              "      <td>apartment</td>\n",
              "      <td>-23.649693</td>\n",
              "      <td>-46.649783</td>\n",
              "      <td>4517.543860</td>\n",
              "    </tr>\n",
              "    <tr>\n",
              "      <th>13638</th>\n",
              "      <td>345000</td>\n",
              "      <td>48</td>\n",
              "      <td>39</td>\n",
              "      <td>1</td>\n",
              "      <td>2</td>\n",
              "      <td>1</td>\n",
              "      <td>1</td>\n",
              "      <td>0</td>\n",
              "      <td>1</td>\n",
              "      <td>1</td>\n",
              "      <td>0</td>\n",
              "      <td>Jabaquara</td>\n",
              "      <td>sale</td>\n",
              "      <td>apartment</td>\n",
              "      <td>-23.652060</td>\n",
              "      <td>-46.637046</td>\n",
              "      <td>8846.153846</td>\n",
              "    </tr>\n",
              "    <tr>\n",
              "      <th>13639</th>\n",
              "      <td>161987</td>\n",
              "      <td>0</td>\n",
              "      <td>44</td>\n",
              "      <td>2</td>\n",
              "      <td>1</td>\n",
              "      <td>0</td>\n",
              "      <td>1</td>\n",
              "      <td>0</td>\n",
              "      <td>0</td>\n",
              "      <td>0</td>\n",
              "      <td>0</td>\n",
              "      <td>Jardim Ângela</td>\n",
              "      <td>sale</td>\n",
              "      <td>apartment</td>\n",
              "      <td>-23.613391</td>\n",
              "      <td>-46.523109</td>\n",
              "      <td>3681.522727</td>\n",
              "    </tr>\n",
              "  </tbody>\n",
              "</table>\n",
              "<p>12617 rows × 17 columns</p>\n",
              "</div>"
            ],
            "text/plain": [
              "        Price  Condo  Size  ...   Latitude  Longitude  price_per_m2\n",
              "0         930    220    47  ... -23.543138 -46.479486     19.787234\n",
              "1        1000    148    45  ... -23.550239 -46.480718     22.222222\n",
              "2        1000    100    48  ... -23.542818 -46.485665     20.833333\n",
              "3        1000    200    48  ... -23.547171 -46.483014     20.833333\n",
              "4        1300    410    55  ... -23.525025 -46.482436     23.636364\n",
              "...       ...    ...   ...  ...        ...        ...           ...\n",
              "13635  265000    420    51  ... -23.653004 -46.635463   5196.078431\n",
              "13636  545000    630    74  ... -23.648930 -46.641982   7364.864865\n",
              "13637  515000   1100   114  ... -23.649693 -46.649783   4517.543860\n",
              "13638  345000     48    39  ... -23.652060 -46.637046   8846.153846\n",
              "13639  161987      0    44  ... -23.613391 -46.523109   3681.522727\n",
              "\n",
              "[12617 rows x 17 columns]"
            ]
          },
          "metadata": {
            "tags": []
          },
          "execution_count": 69
        }
      ]
    },
    {
      "cell_type": "code",
      "metadata": {
        "id": "axRnxHZdheK1"
      },
      "source": [
        "categoricas=df_clean.select_dtypes('object').columns"
      ],
      "execution_count": 70,
      "outputs": []
    },
    {
      "cell_type": "code",
      "metadata": {
        "colab": {
          "base_uri": "https://localhost:8080/"
        },
        "id": "lw4zrGQOhmS4",
        "outputId": "810c4843-5b67-4461-b3eb-f077a2de1297"
      },
      "source": [
        "categoricas"
      ],
      "execution_count": 71,
      "outputs": [
        {
          "output_type": "execute_result",
          "data": {
            "text/plain": [
              "Index(['District', 'Negotiation Type', 'Property Type'], dtype='object')"
            ]
          },
          "metadata": {
            "tags": []
          },
          "execution_count": 71
        }
      ]
    },
    {
      "cell_type": "code",
      "metadata": {
        "colab": {
          "base_uri": "https://localhost:8080/"
        },
        "id": "SqEOpeNyiQ-M",
        "outputId": "53a1b530-69e4-43ca-aa23-0aeb65e7c1a9"
      },
      "source": [
        "df['Property Type'].value_counts(normalize=True)"
      ],
      "execution_count": 75,
      "outputs": [
        {
          "output_type": "execute_result",
          "data": {
            "text/plain": [
              "apartment    1.0\n",
              "Name: Property Type, dtype: float64"
            ]
          },
          "metadata": {
            "tags": []
          },
          "execution_count": 75
        }
      ]
    },
    {
      "cell_type": "code",
      "metadata": {
        "id": "4MMcM9txhnev"
      },
      "source": [
        "df_clean = pd.get_dummies(df_clean)"
      ],
      "execution_count": 72,
      "outputs": []
    },
    {
      "cell_type": "code",
      "metadata": {
        "id": "EDY8qZbKh_i_"
      },
      "source": [
        "df_clean.drop(['Property Type_apartment'],axis=1, inplace=True)"
      ],
      "execution_count": 78,
      "outputs": []
    },
    {
      "cell_type": "code",
      "metadata": {
        "id": "V3UuNSH6iBGO"
      },
      "source": [
        "df_clean.drop(['Latitude', 'Longitude'],axis=1, inplace=True)"
      ],
      "execution_count": 79,
      "outputs": []
    },
    {
      "cell_type": "code",
      "metadata": {
        "colab": {
          "base_uri": "https://localhost:8080/",
          "height": 438
        },
        "id": "njUU3tRdla5t",
        "outputId": "b22e2435-f972-4b47-c9c2-8ed4ee67cddd"
      },
      "source": [
        "df_clean"
      ],
      "execution_count": 93,
      "outputs": [
        {
          "output_type": "execute_result",
          "data": {
            "text/html": [
              "<div>\n",
              "<style scoped>\n",
              "    .dataframe tbody tr th:only-of-type {\n",
              "        vertical-align: middle;\n",
              "    }\n",
              "\n",
              "    .dataframe tbody tr th {\n",
              "        vertical-align: top;\n",
              "    }\n",
              "\n",
              "    .dataframe thead th {\n",
              "        text-align: right;\n",
              "    }\n",
              "</style>\n",
              "<table border=\"1\" class=\"dataframe\">\n",
              "  <thead>\n",
              "    <tr style=\"text-align: right;\">\n",
              "      <th></th>\n",
              "      <th>Price</th>\n",
              "      <th>Condo</th>\n",
              "      <th>Size</th>\n",
              "      <th>Rooms</th>\n",
              "      <th>Toilets</th>\n",
              "      <th>Suites</th>\n",
              "      <th>Parking</th>\n",
              "      <th>Elevator</th>\n",
              "      <th>Furnished</th>\n",
              "      <th>Swimming Pool</th>\n",
              "      <th>New</th>\n",
              "      <th>price_per_m2</th>\n",
              "      <th>District_Alto de Pinheiros</th>\n",
              "      <th>District_Anhanguera</th>\n",
              "      <th>District_Aricanduva</th>\n",
              "      <th>District_Artur Alvim</th>\n",
              "      <th>District_Barra Funda</th>\n",
              "      <th>District_Bela Vista</th>\n",
              "      <th>District_Belém</th>\n",
              "      <th>District_Bom Retiro</th>\n",
              "      <th>District_Brasilândia</th>\n",
              "      <th>District_Brooklin</th>\n",
              "      <th>District_Brás</th>\n",
              "      <th>District_Butantã</th>\n",
              "      <th>District_Cachoeirinha</th>\n",
              "      <th>District_Cambuci</th>\n",
              "      <th>District_Campo Belo</th>\n",
              "      <th>District_Campo Grande</th>\n",
              "      <th>District_Campo Limpo</th>\n",
              "      <th>District_Cangaíba</th>\n",
              "      <th>District_Capão Redondo</th>\n",
              "      <th>District_Carrão</th>\n",
              "      <th>District_Casa Verde</th>\n",
              "      <th>District_Cidade Ademar</th>\n",
              "      <th>District_Cidade Dutra</th>\n",
              "      <th>District_Cidade Líder</th>\n",
              "      <th>District_Cidade Tiradentes</th>\n",
              "      <th>District_Consolação</th>\n",
              "      <th>District_Cursino</th>\n",
              "      <th>District_Ermelino Matarazzo</th>\n",
              "      <th>...</th>\n",
              "      <th>District_Perdizes</th>\n",
              "      <th>District_Perus</th>\n",
              "      <th>District_Pinheiros</th>\n",
              "      <th>District_Pirituba</th>\n",
              "      <th>District_Ponte Rasa</th>\n",
              "      <th>District_Raposo Tavares</th>\n",
              "      <th>District_República</th>\n",
              "      <th>District_Rio Pequeno</th>\n",
              "      <th>District_Sacomã</th>\n",
              "      <th>District_Santa Cecília</th>\n",
              "      <th>District_Santana</th>\n",
              "      <th>District_Santo Amaro</th>\n",
              "      <th>District_Sapopemba</th>\n",
              "      <th>District_Saúde</th>\n",
              "      <th>District_Socorro</th>\n",
              "      <th>District_São Domingos</th>\n",
              "      <th>District_São Lucas</th>\n",
              "      <th>District_São Mateus</th>\n",
              "      <th>District_São Miguel</th>\n",
              "      <th>District_São Rafael</th>\n",
              "      <th>District_Sé</th>\n",
              "      <th>District_Tatuapé</th>\n",
              "      <th>District_Tremembé</th>\n",
              "      <th>District_Tucuruvi</th>\n",
              "      <th>District_Vila Andrade</th>\n",
              "      <th>District_Vila Curuçá</th>\n",
              "      <th>District_Vila Formosa</th>\n",
              "      <th>District_Vila Guilherme</th>\n",
              "      <th>District_Vila Jacuí</th>\n",
              "      <th>District_Vila Leopoldina</th>\n",
              "      <th>District_Vila Madalena</th>\n",
              "      <th>District_Vila Maria</th>\n",
              "      <th>District_Vila Mariana</th>\n",
              "      <th>District_Vila Matilde</th>\n",
              "      <th>District_Vila Olimpia</th>\n",
              "      <th>District_Vila Prudente</th>\n",
              "      <th>District_Vila Sônia</th>\n",
              "      <th>District_Água Rasa</th>\n",
              "      <th>Negotiation Type_rent</th>\n",
              "      <th>Negotiation Type_sale</th>\n",
              "    </tr>\n",
              "  </thead>\n",
              "  <tbody>\n",
              "    <tr>\n",
              "      <th>0</th>\n",
              "      <td>930</td>\n",
              "      <td>220</td>\n",
              "      <td>47</td>\n",
              "      <td>2</td>\n",
              "      <td>2</td>\n",
              "      <td>1</td>\n",
              "      <td>1</td>\n",
              "      <td>0</td>\n",
              "      <td>0</td>\n",
              "      <td>0</td>\n",
              "      <td>0</td>\n",
              "      <td>19.787234</td>\n",
              "      <td>0</td>\n",
              "      <td>0</td>\n",
              "      <td>0</td>\n",
              "      <td>1</td>\n",
              "      <td>0</td>\n",
              "      <td>0</td>\n",
              "      <td>0</td>\n",
              "      <td>0</td>\n",
              "      <td>0</td>\n",
              "      <td>0</td>\n",
              "      <td>0</td>\n",
              "      <td>0</td>\n",
              "      <td>0</td>\n",
              "      <td>0</td>\n",
              "      <td>0</td>\n",
              "      <td>0</td>\n",
              "      <td>0</td>\n",
              "      <td>0</td>\n",
              "      <td>0</td>\n",
              "      <td>0</td>\n",
              "      <td>0</td>\n",
              "      <td>0</td>\n",
              "      <td>0</td>\n",
              "      <td>0</td>\n",
              "      <td>0</td>\n",
              "      <td>0</td>\n",
              "      <td>0</td>\n",
              "      <td>0</td>\n",
              "      <td>...</td>\n",
              "      <td>0</td>\n",
              "      <td>0</td>\n",
              "      <td>0</td>\n",
              "      <td>0</td>\n",
              "      <td>0</td>\n",
              "      <td>0</td>\n",
              "      <td>0</td>\n",
              "      <td>0</td>\n",
              "      <td>0</td>\n",
              "      <td>0</td>\n",
              "      <td>0</td>\n",
              "      <td>0</td>\n",
              "      <td>0</td>\n",
              "      <td>0</td>\n",
              "      <td>0</td>\n",
              "      <td>0</td>\n",
              "      <td>0</td>\n",
              "      <td>0</td>\n",
              "      <td>0</td>\n",
              "      <td>0</td>\n",
              "      <td>0</td>\n",
              "      <td>0</td>\n",
              "      <td>0</td>\n",
              "      <td>0</td>\n",
              "      <td>0</td>\n",
              "      <td>0</td>\n",
              "      <td>0</td>\n",
              "      <td>0</td>\n",
              "      <td>0</td>\n",
              "      <td>0</td>\n",
              "      <td>0</td>\n",
              "      <td>0</td>\n",
              "      <td>0</td>\n",
              "      <td>0</td>\n",
              "      <td>0</td>\n",
              "      <td>0</td>\n",
              "      <td>0</td>\n",
              "      <td>0</td>\n",
              "      <td>1</td>\n",
              "      <td>0</td>\n",
              "    </tr>\n",
              "    <tr>\n",
              "      <th>1</th>\n",
              "      <td>1000</td>\n",
              "      <td>148</td>\n",
              "      <td>45</td>\n",
              "      <td>2</td>\n",
              "      <td>2</td>\n",
              "      <td>1</td>\n",
              "      <td>1</td>\n",
              "      <td>0</td>\n",
              "      <td>0</td>\n",
              "      <td>0</td>\n",
              "      <td>0</td>\n",
              "      <td>22.222222</td>\n",
              "      <td>0</td>\n",
              "      <td>0</td>\n",
              "      <td>0</td>\n",
              "      <td>1</td>\n",
              "      <td>0</td>\n",
              "      <td>0</td>\n",
              "      <td>0</td>\n",
              "      <td>0</td>\n",
              "      <td>0</td>\n",
              "      <td>0</td>\n",
              "      <td>0</td>\n",
              "      <td>0</td>\n",
              "      <td>0</td>\n",
              "      <td>0</td>\n",
              "      <td>0</td>\n",
              "      <td>0</td>\n",
              "      <td>0</td>\n",
              "      <td>0</td>\n",
              "      <td>0</td>\n",
              "      <td>0</td>\n",
              "      <td>0</td>\n",
              "      <td>0</td>\n",
              "      <td>0</td>\n",
              "      <td>0</td>\n",
              "      <td>0</td>\n",
              "      <td>0</td>\n",
              "      <td>0</td>\n",
              "      <td>0</td>\n",
              "      <td>...</td>\n",
              "      <td>0</td>\n",
              "      <td>0</td>\n",
              "      <td>0</td>\n",
              "      <td>0</td>\n",
              "      <td>0</td>\n",
              "      <td>0</td>\n",
              "      <td>0</td>\n",
              "      <td>0</td>\n",
              "      <td>0</td>\n",
              "      <td>0</td>\n",
              "      <td>0</td>\n",
              "      <td>0</td>\n",
              "      <td>0</td>\n",
              "      <td>0</td>\n",
              "      <td>0</td>\n",
              "      <td>0</td>\n",
              "      <td>0</td>\n",
              "      <td>0</td>\n",
              "      <td>0</td>\n",
              "      <td>0</td>\n",
              "      <td>0</td>\n",
              "      <td>0</td>\n",
              "      <td>0</td>\n",
              "      <td>0</td>\n",
              "      <td>0</td>\n",
              "      <td>0</td>\n",
              "      <td>0</td>\n",
              "      <td>0</td>\n",
              "      <td>0</td>\n",
              "      <td>0</td>\n",
              "      <td>0</td>\n",
              "      <td>0</td>\n",
              "      <td>0</td>\n",
              "      <td>0</td>\n",
              "      <td>0</td>\n",
              "      <td>0</td>\n",
              "      <td>0</td>\n",
              "      <td>0</td>\n",
              "      <td>1</td>\n",
              "      <td>0</td>\n",
              "    </tr>\n",
              "    <tr>\n",
              "      <th>2</th>\n",
              "      <td>1000</td>\n",
              "      <td>100</td>\n",
              "      <td>48</td>\n",
              "      <td>2</td>\n",
              "      <td>2</td>\n",
              "      <td>1</td>\n",
              "      <td>1</td>\n",
              "      <td>0</td>\n",
              "      <td>0</td>\n",
              "      <td>0</td>\n",
              "      <td>0</td>\n",
              "      <td>20.833333</td>\n",
              "      <td>0</td>\n",
              "      <td>0</td>\n",
              "      <td>0</td>\n",
              "      <td>1</td>\n",
              "      <td>0</td>\n",
              "      <td>0</td>\n",
              "      <td>0</td>\n",
              "      <td>0</td>\n",
              "      <td>0</td>\n",
              "      <td>0</td>\n",
              "      <td>0</td>\n",
              "      <td>0</td>\n",
              "      <td>0</td>\n",
              "      <td>0</td>\n",
              "      <td>0</td>\n",
              "      <td>0</td>\n",
              "      <td>0</td>\n",
              "      <td>0</td>\n",
              "      <td>0</td>\n",
              "      <td>0</td>\n",
              "      <td>0</td>\n",
              "      <td>0</td>\n",
              "      <td>0</td>\n",
              "      <td>0</td>\n",
              "      <td>0</td>\n",
              "      <td>0</td>\n",
              "      <td>0</td>\n",
              "      <td>0</td>\n",
              "      <td>...</td>\n",
              "      <td>0</td>\n",
              "      <td>0</td>\n",
              "      <td>0</td>\n",
              "      <td>0</td>\n",
              "      <td>0</td>\n",
              "      <td>0</td>\n",
              "      <td>0</td>\n",
              "      <td>0</td>\n",
              "      <td>0</td>\n",
              "      <td>0</td>\n",
              "      <td>0</td>\n",
              "      <td>0</td>\n",
              "      <td>0</td>\n",
              "      <td>0</td>\n",
              "      <td>0</td>\n",
              "      <td>0</td>\n",
              "      <td>0</td>\n",
              "      <td>0</td>\n",
              "      <td>0</td>\n",
              "      <td>0</td>\n",
              "      <td>0</td>\n",
              "      <td>0</td>\n",
              "      <td>0</td>\n",
              "      <td>0</td>\n",
              "      <td>0</td>\n",
              "      <td>0</td>\n",
              "      <td>0</td>\n",
              "      <td>0</td>\n",
              "      <td>0</td>\n",
              "      <td>0</td>\n",
              "      <td>0</td>\n",
              "      <td>0</td>\n",
              "      <td>0</td>\n",
              "      <td>0</td>\n",
              "      <td>0</td>\n",
              "      <td>0</td>\n",
              "      <td>0</td>\n",
              "      <td>0</td>\n",
              "      <td>1</td>\n",
              "      <td>0</td>\n",
              "    </tr>\n",
              "    <tr>\n",
              "      <th>3</th>\n",
              "      <td>1000</td>\n",
              "      <td>200</td>\n",
              "      <td>48</td>\n",
              "      <td>2</td>\n",
              "      <td>2</td>\n",
              "      <td>1</td>\n",
              "      <td>1</td>\n",
              "      <td>0</td>\n",
              "      <td>0</td>\n",
              "      <td>0</td>\n",
              "      <td>0</td>\n",
              "      <td>20.833333</td>\n",
              "      <td>0</td>\n",
              "      <td>0</td>\n",
              "      <td>0</td>\n",
              "      <td>1</td>\n",
              "      <td>0</td>\n",
              "      <td>0</td>\n",
              "      <td>0</td>\n",
              "      <td>0</td>\n",
              "      <td>0</td>\n",
              "      <td>0</td>\n",
              "      <td>0</td>\n",
              "      <td>0</td>\n",
              "      <td>0</td>\n",
              "      <td>0</td>\n",
              "      <td>0</td>\n",
              "      <td>0</td>\n",
              "      <td>0</td>\n",
              "      <td>0</td>\n",
              "      <td>0</td>\n",
              "      <td>0</td>\n",
              "      <td>0</td>\n",
              "      <td>0</td>\n",
              "      <td>0</td>\n",
              "      <td>0</td>\n",
              "      <td>0</td>\n",
              "      <td>0</td>\n",
              "      <td>0</td>\n",
              "      <td>0</td>\n",
              "      <td>...</td>\n",
              "      <td>0</td>\n",
              "      <td>0</td>\n",
              "      <td>0</td>\n",
              "      <td>0</td>\n",
              "      <td>0</td>\n",
              "      <td>0</td>\n",
              "      <td>0</td>\n",
              "      <td>0</td>\n",
              "      <td>0</td>\n",
              "      <td>0</td>\n",
              "      <td>0</td>\n",
              "      <td>0</td>\n",
              "      <td>0</td>\n",
              "      <td>0</td>\n",
              "      <td>0</td>\n",
              "      <td>0</td>\n",
              "      <td>0</td>\n",
              "      <td>0</td>\n",
              "      <td>0</td>\n",
              "      <td>0</td>\n",
              "      <td>0</td>\n",
              "      <td>0</td>\n",
              "      <td>0</td>\n",
              "      <td>0</td>\n",
              "      <td>0</td>\n",
              "      <td>0</td>\n",
              "      <td>0</td>\n",
              "      <td>0</td>\n",
              "      <td>0</td>\n",
              "      <td>0</td>\n",
              "      <td>0</td>\n",
              "      <td>0</td>\n",
              "      <td>0</td>\n",
              "      <td>0</td>\n",
              "      <td>0</td>\n",
              "      <td>0</td>\n",
              "      <td>0</td>\n",
              "      <td>0</td>\n",
              "      <td>1</td>\n",
              "      <td>0</td>\n",
              "    </tr>\n",
              "    <tr>\n",
              "      <th>4</th>\n",
              "      <td>1300</td>\n",
              "      <td>410</td>\n",
              "      <td>55</td>\n",
              "      <td>2</td>\n",
              "      <td>2</td>\n",
              "      <td>1</td>\n",
              "      <td>1</td>\n",
              "      <td>1</td>\n",
              "      <td>0</td>\n",
              "      <td>0</td>\n",
              "      <td>0</td>\n",
              "      <td>23.636364</td>\n",
              "      <td>0</td>\n",
              "      <td>0</td>\n",
              "      <td>0</td>\n",
              "      <td>1</td>\n",
              "      <td>0</td>\n",
              "      <td>0</td>\n",
              "      <td>0</td>\n",
              "      <td>0</td>\n",
              "      <td>0</td>\n",
              "      <td>0</td>\n",
              "      <td>0</td>\n",
              "      <td>0</td>\n",
              "      <td>0</td>\n",
              "      <td>0</td>\n",
              "      <td>0</td>\n",
              "      <td>0</td>\n",
              "      <td>0</td>\n",
              "      <td>0</td>\n",
              "      <td>0</td>\n",
              "      <td>0</td>\n",
              "      <td>0</td>\n",
              "      <td>0</td>\n",
              "      <td>0</td>\n",
              "      <td>0</td>\n",
              "      <td>0</td>\n",
              "      <td>0</td>\n",
              "      <td>0</td>\n",
              "      <td>0</td>\n",
              "      <td>...</td>\n",
              "      <td>0</td>\n",
              "      <td>0</td>\n",
              "      <td>0</td>\n",
              "      <td>0</td>\n",
              "      <td>0</td>\n",
              "      <td>0</td>\n",
              "      <td>0</td>\n",
              "      <td>0</td>\n",
              "      <td>0</td>\n",
              "      <td>0</td>\n",
              "      <td>0</td>\n",
              "      <td>0</td>\n",
              "      <td>0</td>\n",
              "      <td>0</td>\n",
              "      <td>0</td>\n",
              "      <td>0</td>\n",
              "      <td>0</td>\n",
              "      <td>0</td>\n",
              "      <td>0</td>\n",
              "      <td>0</td>\n",
              "      <td>0</td>\n",
              "      <td>0</td>\n",
              "      <td>0</td>\n",
              "      <td>0</td>\n",
              "      <td>0</td>\n",
              "      <td>0</td>\n",
              "      <td>0</td>\n",
              "      <td>0</td>\n",
              "      <td>0</td>\n",
              "      <td>0</td>\n",
              "      <td>0</td>\n",
              "      <td>0</td>\n",
              "      <td>0</td>\n",
              "      <td>0</td>\n",
              "      <td>0</td>\n",
              "      <td>0</td>\n",
              "      <td>0</td>\n",
              "      <td>0</td>\n",
              "      <td>1</td>\n",
              "      <td>0</td>\n",
              "    </tr>\n",
              "    <tr>\n",
              "      <th>...</th>\n",
              "      <td>...</td>\n",
              "      <td>...</td>\n",
              "      <td>...</td>\n",
              "      <td>...</td>\n",
              "      <td>...</td>\n",
              "      <td>...</td>\n",
              "      <td>...</td>\n",
              "      <td>...</td>\n",
              "      <td>...</td>\n",
              "      <td>...</td>\n",
              "      <td>...</td>\n",
              "      <td>...</td>\n",
              "      <td>...</td>\n",
              "      <td>...</td>\n",
              "      <td>...</td>\n",
              "      <td>...</td>\n",
              "      <td>...</td>\n",
              "      <td>...</td>\n",
              "      <td>...</td>\n",
              "      <td>...</td>\n",
              "      <td>...</td>\n",
              "      <td>...</td>\n",
              "      <td>...</td>\n",
              "      <td>...</td>\n",
              "      <td>...</td>\n",
              "      <td>...</td>\n",
              "      <td>...</td>\n",
              "      <td>...</td>\n",
              "      <td>...</td>\n",
              "      <td>...</td>\n",
              "      <td>...</td>\n",
              "      <td>...</td>\n",
              "      <td>...</td>\n",
              "      <td>...</td>\n",
              "      <td>...</td>\n",
              "      <td>...</td>\n",
              "      <td>...</td>\n",
              "      <td>...</td>\n",
              "      <td>...</td>\n",
              "      <td>...</td>\n",
              "      <td>...</td>\n",
              "      <td>...</td>\n",
              "      <td>...</td>\n",
              "      <td>...</td>\n",
              "      <td>...</td>\n",
              "      <td>...</td>\n",
              "      <td>...</td>\n",
              "      <td>...</td>\n",
              "      <td>...</td>\n",
              "      <td>...</td>\n",
              "      <td>...</td>\n",
              "      <td>...</td>\n",
              "      <td>...</td>\n",
              "      <td>...</td>\n",
              "      <td>...</td>\n",
              "      <td>...</td>\n",
              "      <td>...</td>\n",
              "      <td>...</td>\n",
              "      <td>...</td>\n",
              "      <td>...</td>\n",
              "      <td>...</td>\n",
              "      <td>...</td>\n",
              "      <td>...</td>\n",
              "      <td>...</td>\n",
              "      <td>...</td>\n",
              "      <td>...</td>\n",
              "      <td>...</td>\n",
              "      <td>...</td>\n",
              "      <td>...</td>\n",
              "      <td>...</td>\n",
              "      <td>...</td>\n",
              "      <td>...</td>\n",
              "      <td>...</td>\n",
              "      <td>...</td>\n",
              "      <td>...</td>\n",
              "      <td>...</td>\n",
              "      <td>...</td>\n",
              "      <td>...</td>\n",
              "      <td>...</td>\n",
              "      <td>...</td>\n",
              "      <td>...</td>\n",
              "    </tr>\n",
              "    <tr>\n",
              "      <th>13635</th>\n",
              "      <td>265000</td>\n",
              "      <td>420</td>\n",
              "      <td>51</td>\n",
              "      <td>2</td>\n",
              "      <td>1</td>\n",
              "      <td>0</td>\n",
              "      <td>1</td>\n",
              "      <td>0</td>\n",
              "      <td>0</td>\n",
              "      <td>0</td>\n",
              "      <td>0</td>\n",
              "      <td>5196.078431</td>\n",
              "      <td>0</td>\n",
              "      <td>0</td>\n",
              "      <td>0</td>\n",
              "      <td>0</td>\n",
              "      <td>0</td>\n",
              "      <td>0</td>\n",
              "      <td>0</td>\n",
              "      <td>0</td>\n",
              "      <td>0</td>\n",
              "      <td>0</td>\n",
              "      <td>0</td>\n",
              "      <td>0</td>\n",
              "      <td>0</td>\n",
              "      <td>0</td>\n",
              "      <td>0</td>\n",
              "      <td>0</td>\n",
              "      <td>0</td>\n",
              "      <td>0</td>\n",
              "      <td>0</td>\n",
              "      <td>0</td>\n",
              "      <td>0</td>\n",
              "      <td>0</td>\n",
              "      <td>0</td>\n",
              "      <td>0</td>\n",
              "      <td>0</td>\n",
              "      <td>0</td>\n",
              "      <td>0</td>\n",
              "      <td>0</td>\n",
              "      <td>...</td>\n",
              "      <td>0</td>\n",
              "      <td>0</td>\n",
              "      <td>0</td>\n",
              "      <td>0</td>\n",
              "      <td>0</td>\n",
              "      <td>0</td>\n",
              "      <td>0</td>\n",
              "      <td>0</td>\n",
              "      <td>0</td>\n",
              "      <td>0</td>\n",
              "      <td>0</td>\n",
              "      <td>0</td>\n",
              "      <td>0</td>\n",
              "      <td>0</td>\n",
              "      <td>0</td>\n",
              "      <td>0</td>\n",
              "      <td>0</td>\n",
              "      <td>0</td>\n",
              "      <td>0</td>\n",
              "      <td>0</td>\n",
              "      <td>0</td>\n",
              "      <td>0</td>\n",
              "      <td>0</td>\n",
              "      <td>0</td>\n",
              "      <td>0</td>\n",
              "      <td>0</td>\n",
              "      <td>0</td>\n",
              "      <td>0</td>\n",
              "      <td>0</td>\n",
              "      <td>0</td>\n",
              "      <td>0</td>\n",
              "      <td>0</td>\n",
              "      <td>0</td>\n",
              "      <td>0</td>\n",
              "      <td>0</td>\n",
              "      <td>0</td>\n",
              "      <td>0</td>\n",
              "      <td>0</td>\n",
              "      <td>0</td>\n",
              "      <td>1</td>\n",
              "    </tr>\n",
              "    <tr>\n",
              "      <th>13636</th>\n",
              "      <td>545000</td>\n",
              "      <td>630</td>\n",
              "      <td>74</td>\n",
              "      <td>3</td>\n",
              "      <td>2</td>\n",
              "      <td>1</td>\n",
              "      <td>2</td>\n",
              "      <td>0</td>\n",
              "      <td>0</td>\n",
              "      <td>1</td>\n",
              "      <td>0</td>\n",
              "      <td>7364.864865</td>\n",
              "      <td>0</td>\n",
              "      <td>0</td>\n",
              "      <td>0</td>\n",
              "      <td>0</td>\n",
              "      <td>0</td>\n",
              "      <td>0</td>\n",
              "      <td>0</td>\n",
              "      <td>0</td>\n",
              "      <td>0</td>\n",
              "      <td>0</td>\n",
              "      <td>0</td>\n",
              "      <td>0</td>\n",
              "      <td>0</td>\n",
              "      <td>0</td>\n",
              "      <td>0</td>\n",
              "      <td>0</td>\n",
              "      <td>0</td>\n",
              "      <td>0</td>\n",
              "      <td>0</td>\n",
              "      <td>0</td>\n",
              "      <td>0</td>\n",
              "      <td>0</td>\n",
              "      <td>0</td>\n",
              "      <td>0</td>\n",
              "      <td>0</td>\n",
              "      <td>0</td>\n",
              "      <td>0</td>\n",
              "      <td>0</td>\n",
              "      <td>...</td>\n",
              "      <td>0</td>\n",
              "      <td>0</td>\n",
              "      <td>0</td>\n",
              "      <td>0</td>\n",
              "      <td>0</td>\n",
              "      <td>0</td>\n",
              "      <td>0</td>\n",
              "      <td>0</td>\n",
              "      <td>0</td>\n",
              "      <td>0</td>\n",
              "      <td>0</td>\n",
              "      <td>0</td>\n",
              "      <td>0</td>\n",
              "      <td>0</td>\n",
              "      <td>0</td>\n",
              "      <td>0</td>\n",
              "      <td>0</td>\n",
              "      <td>0</td>\n",
              "      <td>0</td>\n",
              "      <td>0</td>\n",
              "      <td>0</td>\n",
              "      <td>0</td>\n",
              "      <td>0</td>\n",
              "      <td>0</td>\n",
              "      <td>0</td>\n",
              "      <td>0</td>\n",
              "      <td>0</td>\n",
              "      <td>0</td>\n",
              "      <td>0</td>\n",
              "      <td>0</td>\n",
              "      <td>0</td>\n",
              "      <td>0</td>\n",
              "      <td>0</td>\n",
              "      <td>0</td>\n",
              "      <td>0</td>\n",
              "      <td>0</td>\n",
              "      <td>0</td>\n",
              "      <td>0</td>\n",
              "      <td>0</td>\n",
              "      <td>1</td>\n",
              "    </tr>\n",
              "    <tr>\n",
              "      <th>13637</th>\n",
              "      <td>515000</td>\n",
              "      <td>1100</td>\n",
              "      <td>114</td>\n",
              "      <td>3</td>\n",
              "      <td>3</td>\n",
              "      <td>1</td>\n",
              "      <td>1</td>\n",
              "      <td>0</td>\n",
              "      <td>0</td>\n",
              "      <td>1</td>\n",
              "      <td>0</td>\n",
              "      <td>4517.543860</td>\n",
              "      <td>0</td>\n",
              "      <td>0</td>\n",
              "      <td>0</td>\n",
              "      <td>0</td>\n",
              "      <td>0</td>\n",
              "      <td>0</td>\n",
              "      <td>0</td>\n",
              "      <td>0</td>\n",
              "      <td>0</td>\n",
              "      <td>0</td>\n",
              "      <td>0</td>\n",
              "      <td>0</td>\n",
              "      <td>0</td>\n",
              "      <td>0</td>\n",
              "      <td>0</td>\n",
              "      <td>0</td>\n",
              "      <td>0</td>\n",
              "      <td>0</td>\n",
              "      <td>0</td>\n",
              "      <td>0</td>\n",
              "      <td>0</td>\n",
              "      <td>0</td>\n",
              "      <td>0</td>\n",
              "      <td>0</td>\n",
              "      <td>0</td>\n",
              "      <td>0</td>\n",
              "      <td>0</td>\n",
              "      <td>0</td>\n",
              "      <td>...</td>\n",
              "      <td>0</td>\n",
              "      <td>0</td>\n",
              "      <td>0</td>\n",
              "      <td>0</td>\n",
              "      <td>0</td>\n",
              "      <td>0</td>\n",
              "      <td>0</td>\n",
              "      <td>0</td>\n",
              "      <td>0</td>\n",
              "      <td>0</td>\n",
              "      <td>0</td>\n",
              "      <td>0</td>\n",
              "      <td>0</td>\n",
              "      <td>0</td>\n",
              "      <td>0</td>\n",
              "      <td>0</td>\n",
              "      <td>0</td>\n",
              "      <td>0</td>\n",
              "      <td>0</td>\n",
              "      <td>0</td>\n",
              "      <td>0</td>\n",
              "      <td>0</td>\n",
              "      <td>0</td>\n",
              "      <td>0</td>\n",
              "      <td>0</td>\n",
              "      <td>0</td>\n",
              "      <td>0</td>\n",
              "      <td>0</td>\n",
              "      <td>0</td>\n",
              "      <td>0</td>\n",
              "      <td>0</td>\n",
              "      <td>0</td>\n",
              "      <td>0</td>\n",
              "      <td>0</td>\n",
              "      <td>0</td>\n",
              "      <td>0</td>\n",
              "      <td>0</td>\n",
              "      <td>0</td>\n",
              "      <td>0</td>\n",
              "      <td>1</td>\n",
              "    </tr>\n",
              "    <tr>\n",
              "      <th>13638</th>\n",
              "      <td>345000</td>\n",
              "      <td>48</td>\n",
              "      <td>39</td>\n",
              "      <td>1</td>\n",
              "      <td>2</td>\n",
              "      <td>1</td>\n",
              "      <td>1</td>\n",
              "      <td>0</td>\n",
              "      <td>1</td>\n",
              "      <td>1</td>\n",
              "      <td>0</td>\n",
              "      <td>8846.153846</td>\n",
              "      <td>0</td>\n",
              "      <td>0</td>\n",
              "      <td>0</td>\n",
              "      <td>0</td>\n",
              "      <td>0</td>\n",
              "      <td>0</td>\n",
              "      <td>0</td>\n",
              "      <td>0</td>\n",
              "      <td>0</td>\n",
              "      <td>0</td>\n",
              "      <td>0</td>\n",
              "      <td>0</td>\n",
              "      <td>0</td>\n",
              "      <td>0</td>\n",
              "      <td>0</td>\n",
              "      <td>0</td>\n",
              "      <td>0</td>\n",
              "      <td>0</td>\n",
              "      <td>0</td>\n",
              "      <td>0</td>\n",
              "      <td>0</td>\n",
              "      <td>0</td>\n",
              "      <td>0</td>\n",
              "      <td>0</td>\n",
              "      <td>0</td>\n",
              "      <td>0</td>\n",
              "      <td>0</td>\n",
              "      <td>0</td>\n",
              "      <td>...</td>\n",
              "      <td>0</td>\n",
              "      <td>0</td>\n",
              "      <td>0</td>\n",
              "      <td>0</td>\n",
              "      <td>0</td>\n",
              "      <td>0</td>\n",
              "      <td>0</td>\n",
              "      <td>0</td>\n",
              "      <td>0</td>\n",
              "      <td>0</td>\n",
              "      <td>0</td>\n",
              "      <td>0</td>\n",
              "      <td>0</td>\n",
              "      <td>0</td>\n",
              "      <td>0</td>\n",
              "      <td>0</td>\n",
              "      <td>0</td>\n",
              "      <td>0</td>\n",
              "      <td>0</td>\n",
              "      <td>0</td>\n",
              "      <td>0</td>\n",
              "      <td>0</td>\n",
              "      <td>0</td>\n",
              "      <td>0</td>\n",
              "      <td>0</td>\n",
              "      <td>0</td>\n",
              "      <td>0</td>\n",
              "      <td>0</td>\n",
              "      <td>0</td>\n",
              "      <td>0</td>\n",
              "      <td>0</td>\n",
              "      <td>0</td>\n",
              "      <td>0</td>\n",
              "      <td>0</td>\n",
              "      <td>0</td>\n",
              "      <td>0</td>\n",
              "      <td>0</td>\n",
              "      <td>0</td>\n",
              "      <td>0</td>\n",
              "      <td>1</td>\n",
              "    </tr>\n",
              "    <tr>\n",
              "      <th>13639</th>\n",
              "      <td>161987</td>\n",
              "      <td>0</td>\n",
              "      <td>44</td>\n",
              "      <td>2</td>\n",
              "      <td>1</td>\n",
              "      <td>0</td>\n",
              "      <td>1</td>\n",
              "      <td>0</td>\n",
              "      <td>0</td>\n",
              "      <td>0</td>\n",
              "      <td>0</td>\n",
              "      <td>3681.522727</td>\n",
              "      <td>0</td>\n",
              "      <td>0</td>\n",
              "      <td>0</td>\n",
              "      <td>0</td>\n",
              "      <td>0</td>\n",
              "      <td>0</td>\n",
              "      <td>0</td>\n",
              "      <td>0</td>\n",
              "      <td>0</td>\n",
              "      <td>0</td>\n",
              "      <td>0</td>\n",
              "      <td>0</td>\n",
              "      <td>0</td>\n",
              "      <td>0</td>\n",
              "      <td>0</td>\n",
              "      <td>0</td>\n",
              "      <td>0</td>\n",
              "      <td>0</td>\n",
              "      <td>0</td>\n",
              "      <td>0</td>\n",
              "      <td>0</td>\n",
              "      <td>0</td>\n",
              "      <td>0</td>\n",
              "      <td>0</td>\n",
              "      <td>0</td>\n",
              "      <td>0</td>\n",
              "      <td>0</td>\n",
              "      <td>0</td>\n",
              "      <td>...</td>\n",
              "      <td>0</td>\n",
              "      <td>0</td>\n",
              "      <td>0</td>\n",
              "      <td>0</td>\n",
              "      <td>0</td>\n",
              "      <td>0</td>\n",
              "      <td>0</td>\n",
              "      <td>0</td>\n",
              "      <td>0</td>\n",
              "      <td>0</td>\n",
              "      <td>0</td>\n",
              "      <td>0</td>\n",
              "      <td>0</td>\n",
              "      <td>0</td>\n",
              "      <td>0</td>\n",
              "      <td>0</td>\n",
              "      <td>0</td>\n",
              "      <td>0</td>\n",
              "      <td>0</td>\n",
              "      <td>0</td>\n",
              "      <td>0</td>\n",
              "      <td>0</td>\n",
              "      <td>0</td>\n",
              "      <td>0</td>\n",
              "      <td>0</td>\n",
              "      <td>0</td>\n",
              "      <td>0</td>\n",
              "      <td>0</td>\n",
              "      <td>0</td>\n",
              "      <td>0</td>\n",
              "      <td>0</td>\n",
              "      <td>0</td>\n",
              "      <td>0</td>\n",
              "      <td>0</td>\n",
              "      <td>0</td>\n",
              "      <td>0</td>\n",
              "      <td>0</td>\n",
              "      <td>0</td>\n",
              "      <td>0</td>\n",
              "      <td>1</td>\n",
              "    </tr>\n",
              "  </tbody>\n",
              "</table>\n",
              "<p>12617 rows × 110 columns</p>\n",
              "</div>"
            ],
            "text/plain": [
              "        Price  Condo  ...  Negotiation Type_rent  Negotiation Type_sale\n",
              "0         930    220  ...                      1                      0\n",
              "1        1000    148  ...                      1                      0\n",
              "2        1000    100  ...                      1                      0\n",
              "3        1000    200  ...                      1                      0\n",
              "4        1300    410  ...                      1                      0\n",
              "...       ...    ...  ...                    ...                    ...\n",
              "13635  265000    420  ...                      0                      1\n",
              "13636  545000    630  ...                      0                      1\n",
              "13637  515000   1100  ...                      0                      1\n",
              "13638  345000     48  ...                      0                      1\n",
              "13639  161987      0  ...                      0                      1\n",
              "\n",
              "[12617 rows x 110 columns]"
            ]
          },
          "metadata": {
            "tags": []
          },
          "execution_count": 93
        }
      ]
    },
    {
      "cell_type": "markdown",
      "metadata": {
        "id": "vFvDf_JRGaXW"
      },
      "source": [
        "A variável `Property Type` possuía todos os valores identicos, por isso foi removida. \n",
        "\n",
        "As variáveis `Latitude` e `Longitude` permitem realizar alguns tipos de análise baseado na localização de cada imóvel, o que não é o intuito aqui. Por conta disso foram removidas.\n",
        "\n",
        "A relação entre as variáveis `price` e `size` trazem uma informação importante. O `price_per_m2` traz o preço do metro quadrado daquele imóvel e pode ajudar o modelo assimilar informações importantes sobre os imóveis."
      ]
    },
    {
      "cell_type": "markdown",
      "metadata": {
        "id": "JK7V6pbgoi9i"
      },
      "source": [
        "#Create pipeline"
      ]
    },
    {
      "cell_type": "code",
      "metadata": {
        "id": "ddQnpxOwj8Dy"
      },
      "source": [
        "X = df_clean.drop(['Price'], axis=1)\n",
        "y = df_clean['Price']\n",
        "\n",
        "X_train, X_test, y_train, y_test = train_test_split(X, y) "
      ],
      "execution_count": 90,
      "outputs": []
    },
    {
      "cell_type": "code",
      "metadata": {
        "id": "YrhKepUUjAH0"
      },
      "source": [
        "pipeline = Pipeline([('scaler', StandardScaler()), ('clf', XGBRegressor(objective='reg:squarederror'))]) "
      ],
      "execution_count": 110,
      "outputs": []
    },
    {
      "cell_type": "code",
      "metadata": {
        "colab": {
          "base_uri": "https://localhost:8080/"
        },
        "id": "EQmN-lhLjk6H",
        "outputId": "c6169ed2-604d-45dc-e45e-04a1ec2cfeb6"
      },
      "source": [
        "pipeline.fit(X_train, y_train)"
      ],
      "execution_count": 94,
      "outputs": [
        {
          "output_type": "stream",
          "text": [
            "[19:30:13] WARNING: /workspace/src/objective/regression_obj.cu:152: reg:linear is now deprecated in favor of reg:squarederror.\n"
          ],
          "name": "stdout"
        },
        {
          "output_type": "execute_result",
          "data": {
            "text/plain": [
              "Pipeline(memory=None,\n",
              "         steps=[('scaler',\n",
              "                 StandardScaler(copy=True, with_mean=True, with_std=True)),\n",
              "                ('clf',\n",
              "                 XGBRegressor(base_score=0.5, booster='gbtree',\n",
              "                              colsample_bylevel=1, colsample_bynode=1,\n",
              "                              colsample_bytree=1, gamma=0,\n",
              "                              importance_type='gain', learning_rate=0.1,\n",
              "                              max_delta_step=0, max_depth=3, min_child_weight=1,\n",
              "                              missing=None, n_estimators=100, n_jobs=1,\n",
              "                              nthread=None, objective='reg:linear',\n",
              "                              random_state=0, reg_alpha=0, reg_lambda=1,\n",
              "                              scale_pos_weight=1, seed=None, silent=None,\n",
              "                              subsample=1, verbosity=1))],\n",
              "         verbose=False)"
            ]
          },
          "metadata": {
            "tags": []
          },
          "execution_count": 94
        }
      ]
    },
    {
      "cell_type": "code",
      "metadata": {
        "id": "R8qYfpZdlSae"
      },
      "source": [
        "y_pred = pipeline.predict(X_test) "
      ],
      "execution_count": 95,
      "outputs": []
    },
    {
      "cell_type": "code",
      "metadata": {
        "colab": {
          "base_uri": "https://localhost:8080/"
        },
        "id": "ER0faPxDnHwn",
        "outputId": "205bee95-7c3b-424c-8634-2fa96ab14a2a"
      },
      "source": [
        "print('R2', r2_score(y_test, y_pred))\n",
        "print('MAE: ',mean_absolute_error(y_test, y_pred))\n",
        "print('MSE: ',mean_squared_error(y_test, y_pred))\n",
        "print('RMSE: ',np.sqrt(mean_squared_error(y_test, y_pred)))"
      ],
      "execution_count": 99,
      "outputs": [
        {
          "output_type": "stream",
          "text": [
            "R2 0.9973855798825335\n",
            "MAE:  5732.036639370443\n",
            "MSE:  130575209.96288237\n",
            "RMSE:  11426.951035288563\n"
          ],
          "name": "stdout"
        }
      ]
    },
    {
      "cell_type": "code",
      "metadata": {
        "colab": {
          "base_uri": "https://localhost:8080/"
        },
        "id": "qPrZ_1Vkp405",
        "outputId": "3431a291-f709-4aef-f63e-7f51bf907150"
      },
      "source": [
        "param_grid={\n",
        "    'learning_rate':[0.001, 0.01, 1],\n",
        "    'max_depth:': range(1,10),\n",
        "    'gamma': [i/10 for i in range(0,10)],\n",
        "    'n_estimators' : range(0,600,50),\n",
        "    'subsample': [i/10 for i in range(5, 11)],\n",
        "    'colsample_bytree': [i/10 for i in range(5, 11)],\n",
        "    'min_child_weight': range(1,5),\n",
        "    'scale_pos_weight': [i/10 for i in range(0,100,5)]\n",
        "\n",
        "}"
      ],
      "execution_count": 102,
      "outputs": [
        {
          "output_type": "execute_result",
          "data": {
            "text/plain": [
              "<bound method Pipeline.get_params of Pipeline(memory=None,\n",
              "         steps=[('scaler',\n",
              "                 StandardScaler(copy=True, with_mean=True, with_std=True)),\n",
              "                ('clf',\n",
              "                 XGBRegressor(base_score=0.5, booster='gbtree',\n",
              "                              colsample_bylevel=1, colsample_bynode=1,\n",
              "                              colsample_bytree=1, gamma=0,\n",
              "                              importance_type='gain', learning_rate=0.1,\n",
              "                              max_delta_step=0, max_depth=3, min_child_weight=1,\n",
              "                              missing=None, n_estimators=100, n_jobs=1,\n",
              "                              nthread=None, objective='reg:linear',\n",
              "                              random_state=0, reg_alpha=0, reg_lambda=1,\n",
              "                              scale_pos_weight=1, seed=None, silent=None,\n",
              "                              subsample=1, verbosity=1))],\n",
              "         verbose=False)>"
            ]
          },
          "metadata": {
            "tags": []
          },
          "execution_count": 102
        }
      ]
    },
    {
      "cell_type": "markdown",
      "metadata": {
        "id": "vWt_Bzy2ooyL"
      },
      "source": [
        "#Hyperparam Tuning"
      ]
    },
    {
      "cell_type": "code",
      "metadata": {
        "colab": {
          "base_uri": "https://localhost:8080/"
        },
        "id": "dll7J3EZqREO",
        "outputId": "15c4edd7-e07d-4f2f-9d9b-c12e655cb252"
      },
      "source": [
        "pipeline = Pipeline([('scaler', StandardScaler()), ('clf', XGBRegressor(objective='reg:squarederror'))])\n",
        "grid = GridSearchCV(pipeline, scoring='neg_mean_squared_error', param_grid={'clf__n_estimators' : range(0,600,50)})\n",
        "grid.fit(X_train, y_train)\n",
        "print('neg_mean_squared_error: {}'.format(grid.best_score_ ))\n",
        "print('best_params: {}'.format(grid.best_params_))"
      ],
      "execution_count": 111,
      "outputs": [
        {
          "output_type": "stream",
          "text": [
            "neg_mean_squared_error: -72061017.97618322\n",
            "best_params: {'clf__n_estimators': 550}\n"
          ],
          "name": "stdout"
        }
      ]
    },
    {
      "cell_type": "code",
      "metadata": {
        "colab": {
          "base_uri": "https://localhost:8080/"
        },
        "id": "aiu500GWwlet",
        "outputId": "d30fe2ef-aaaa-478f-f150-ebb1ca7349ce"
      },
      "source": [
        "pipeline = Pipeline([('scaler', StandardScaler()), ('clf', XGBRegressor(n_estimators=550,objective='reg:squarederror'))])\n",
        "grid = GridSearchCV(pipeline.set_params(), scoring='neg_mean_squared_error', param_grid={\n",
        "                                                                                'clf__min_child_weight': range(1,5)})\n",
        "grid.fit(X_train, y_train)\n",
        "print('neg_mean_squared_error: {}'.format(grid.best_score_ ))\n",
        "print('best_params: {}'.format(grid.best_params_))"
      ],
      "execution_count": 114,
      "outputs": [
        {
          "output_type": "stream",
          "text": [
            "neg_mean_squared_error: -67511987.95444188\n",
            "best_params: {'clf__min_child_weight': 3}\n"
          ],
          "name": "stdout"
        }
      ]
    },
    {
      "cell_type": "code",
      "metadata": {
        "colab": {
          "base_uri": "https://localhost:8080/"
        },
        "id": "K21s0Fbk51NI",
        "outputId": "55d100aa-c295-49ec-9a31-81bddf20ebe3"
      },
      "source": [
        "pipeline = Pipeline([('scaler', StandardScaler()), ('clf', XGBRegressor(n_estimators=550, min_child_weight=3, objective='reg:squarederror'))])\n",
        "grid = GridSearchCV(pipeline.set_params(), scoring='neg_mean_squared_error', param_grid={\n",
        "                                                                               'clf__scale_pos_weight': [i/10 for i in range(0,100,5)]})\n",
        "grid.fit(X_train, y_train)\n",
        "print('neg_mean_squared_error: {}'.format(grid.best_score_ ))\n",
        "print('best_params: {}'.format(grid.best_params_))"
      ],
      "execution_count": 116,
      "outputs": [
        {
          "output_type": "stream",
          "text": [
            "neg_mean_squared_error: -67511987.95444188\n",
            "best_params: {'clf__scale_pos_weight': 0.0}\n"
          ],
          "name": "stdout"
        }
      ]
    },
    {
      "cell_type": "code",
      "metadata": {
        "colab": {
          "base_uri": "https://localhost:8080/"
        },
        "id": "MfWWqVGz7xQO",
        "outputId": "6e0ad9b5-7054-4b8c-a274-05e9eeb2cb9c"
      },
      "source": [
        "pipeline = Pipeline([('scaler', StandardScaler()), ('clf', XGBRegressor(n_estimators=550, min_child_weight=3, scale_pos_weight=0, objective='reg:squarederror'))])\n",
        "grid = GridSearchCV(pipeline.set_params(), scoring='neg_mean_squared_error', param_grid={\n",
        "                                                                            'clf__max_depth:': range(1,10)})\n",
        "grid.fit(X_train, y_train)\n",
        "print('neg_mean_squared_error: {}'.format(grid.best_score_ ))\n",
        "print('best_params: {}'.format(grid.best_params_))"
      ],
      "execution_count": 117,
      "outputs": [
        {
          "output_type": "stream",
          "text": [
            "neg_mean_squared_error: -67511987.95444188\n",
            "best_params: {'clf__max_depth:': 1}\n"
          ],
          "name": "stdout"
        }
      ]
    },
    {
      "cell_type": "code",
      "metadata": {
        "colab": {
          "base_uri": "https://localhost:8080/"
        },
        "id": "TQ6bPlX-64d-",
        "outputId": "be86be7c-5c17-4887-bfbd-2fa41445c49a"
      },
      "source": [
        "pipeline = Pipeline([('scaler', StandardScaler()), ('clf', XGBRegressor(n_estimators=550, min_child_weight=3, scale_pos_weight=0, max_depht=1, objective='reg:squarederror'))])\n",
        "grid = GridSearchCV(pipeline.set_params(), scoring='neg_mean_squared_error', param_grid={'clf__gamma': [i/10 for i in range(0,10)]})\n",
        "grid.fit(X_train, y_train)\n",
        "print('neg_mean_squared_error: {}'.format(grid.best_score_ ))\n",
        "print('best_params: {}'.format(grid.best_params_))"
      ],
      "execution_count": 118,
      "outputs": [
        {
          "output_type": "stream",
          "text": [
            "neg_mean_squared_error: -67511987.95444188\n",
            "best_params: {'clf__gamma': 0.0}\n"
          ],
          "name": "stdout"
        }
      ]
    },
    {
      "cell_type": "code",
      "metadata": {
        "colab": {
          "base_uri": "https://localhost:8080/"
        },
        "id": "4aablqRD39Av",
        "outputId": "cc9c3607-6dbc-41ba-9b15-ac96a082835f"
      },
      "source": [
        "pipeline = Pipeline([('scaler', StandardScaler()), ('clf', XGBRegressor(n_estimators=550, min_child_weight=3, scale_pos_weight=0, max_depht=1, gamma=0,objective='reg:squarederror'))])\n",
        "grid = GridSearchCV(pipeline.set_params(), scoring='neg_mean_squared_error', param_grid={\n",
        "                                                                             'clf__subsample': [i/10 for i in range(5, 11)]})\n",
        "grid.fit(X_train, y_train)\n",
        "print('neg_mean_squared_error: {}'.format(grid.best_score_ ))\n",
        "print('best_params: {}'.format(grid.best_params_))"
      ],
      "execution_count": 119,
      "outputs": [
        {
          "output_type": "stream",
          "text": [
            "neg_mean_squared_error: -60282304.201571845\n",
            "best_params: {'clf__subsample': 0.7}\n"
          ],
          "name": "stdout"
        }
      ]
    },
    {
      "cell_type": "code",
      "metadata": {
        "colab": {
          "base_uri": "https://localhost:8080/"
        },
        "id": "oHaflpgp2v39",
        "outputId": "1a1a4a97-e8b2-46a0-ffbf-af752e8b909e"
      },
      "source": [
        "pipeline = Pipeline([('scaler', StandardScaler()), ('clf', XGBRegressor(n_estimators=550, min_child_weight=3, scale_pos_weight=0, max_depht=1, gamma=0, subsample=0.7,objective='reg:squarederror'))])\n",
        "grid = GridSearchCV(pipeline.set_params(), scoring='neg_mean_squared_error', param_grid={\n",
        "                                                                             'clf__colsample_bytree': [i/10 for i in range(5, 11)]})\n",
        "grid.fit(X_train, y_train)\n",
        "print('neg_mean_squared_error: {}'.format(grid.best_score_ ))\n",
        "print('best_params: {}'.format(grid.best_params_))"
      ],
      "execution_count": 120,
      "outputs": [
        {
          "output_type": "stream",
          "text": [
            "neg_mean_squared_error: -60282304.201571845\n",
            "best_params: {'clf__colsample_bytree': 1.0}\n"
          ],
          "name": "stdout"
        }
      ]
    },
    {
      "cell_type": "code",
      "metadata": {
        "colab": {
          "base_uri": "https://localhost:8080/"
        },
        "id": "pgnKBYdj-itQ",
        "outputId": "b01db4bb-34ea-4eaa-b4cf-86ecf836e3da"
      },
      "source": [
        "pipeline = Pipeline([('scaler', StandardScaler()), ('clf', XGBRegressor(n_estimators=550, min_child_weight=3, scale_pos_weight=0, max_depht=1, gamma=0, subsample=0.7, colsample_bytree= 1,objective='reg:squarederror'))])\n",
        "grid = GridSearchCV(pipeline.set_params(), scoring='neg_mean_squared_error', param_grid={\n",
        "                                                                             'clf__learning_rate': [0.001, 0.01, 0.1, 0.2,0.3, 1]})\n",
        "grid.fit(X_train, y_train)\n",
        "print('neg_mean_squared_error: {}'.format(grid.best_score_ ))\n",
        "print('best_params: {}'.format(grid.best_params_))"
      ],
      "execution_count": 121,
      "outputs": [
        {
          "output_type": "stream",
          "text": [
            "neg_mean_squared_error: -60282304.201571845\n",
            "best_params: {'clf__learning_rate': 0.1}\n"
          ],
          "name": "stdout"
        }
      ]
    },
    {
      "cell_type": "code",
      "metadata": {
        "colab": {
          "base_uri": "https://localhost:8080/"
        },
        "id": "edHQB1Xx9bjm",
        "outputId": "83b0d264-cf22-4467-f091-87b130856475"
      },
      "source": [
        "pipeline = Pipeline([('scaler', StandardScaler()), ('clf', XGBRegressor(learning_rate=0.1,n_estimators=550, min_child_weight=3, scale_pos_weight=0, max_depht=1, gamma=0, subsample=0.7, colsample_bytree= 1,objective='reg:squarederror'))])\n",
        "pipeline.fit(X_train, y_train)"
      ],
      "execution_count": 122,
      "outputs": [
        {
          "output_type": "execute_result",
          "data": {
            "text/plain": [
              "Pipeline(memory=None,\n",
              "         steps=[('scaler',\n",
              "                 StandardScaler(copy=True, with_mean=True, with_std=True)),\n",
              "                ('clf',\n",
              "                 XGBRegressor(base_score=0.5, booster='gbtree',\n",
              "                              colsample_bylevel=1, colsample_bynode=1,\n",
              "                              colsample_bytree=1, gamma=0,\n",
              "                              importance_type='gain', learning_rate=0.1,\n",
              "                              max_delta_step=0, max_depht=1, max_depth=3,\n",
              "                              min_child_weight=3, missing=None,\n",
              "                              n_estimators=550, n_jobs=1, nthread=None,\n",
              "                              objective='reg:squarederror', random_state=0,\n",
              "                              reg_alpha=0, reg_lambda=1, scale_pos_weight=0,\n",
              "                              seed=None, silent=None, subsample=0.7,\n",
              "                              verbosity=1))],\n",
              "         verbose=False)"
            ]
          },
          "metadata": {
            "tags": []
          },
          "execution_count": 122
        }
      ]
    },
    {
      "cell_type": "code",
      "metadata": {
        "id": "56tocYq-LSbX"
      },
      "source": [
        "y_pred = pipeline.predict(X_test)"
      ],
      "execution_count": 125,
      "outputs": []
    },
    {
      "cell_type": "code",
      "metadata": {
        "colab": {
          "base_uri": "https://localhost:8080/"
        },
        "id": "0GVd5bFxLcGL",
        "outputId": "2863629d-2b5a-41da-d8c4-23a4cb249d05"
      },
      "source": [
        "print('R2', r2_score(y_test, y_pred))\n",
        "print('MAE: ',mean_absolute_error(y_test, y_pred))\n",
        "print('MSE: ',mean_squared_error(y_test, y_pred))\n",
        "print('RMSE: ',np.sqrt(mean_squared_error(y_test, y_pred)))"
      ],
      "execution_count": 126,
      "outputs": [
        {
          "output_type": "stream",
          "text": [
            "R2 0.9990385912550938\n",
            "MAE:  3206.794322155319\n",
            "MSE:  48016823.26707628\n",
            "RMSE:  6929.417238633872\n"
          ],
          "name": "stdout"
        }
      ]
    },
    {
      "cell_type": "markdown",
      "metadata": {
        "id": "xmcmjKtxo2Ny"
      },
      "source": [
        "#Save features and model"
      ]
    },
    {
      "cell_type": "code",
      "metadata": {
        "id": "AUF3zY7cMLFn"
      },
      "source": [
        "dump(pipeline, open('pipeline.pkl', 'wb'))"
      ],
      "execution_count": 159,
      "outputs": []
    },
    {
      "cell_type": "code",
      "metadata": {
        "id": "JMPqZ3PWNj0l"
      },
      "source": [
        "features = X_train.columns\n",
        "dump(features, open('features.pkl', 'wb'))"
      ],
      "execution_count": 160,
      "outputs": []
    },
    {
      "cell_type": "code",
      "metadata": {
        "colab": {
          "base_uri": "https://localhost:8080/"
        },
        "id": "1kszcvqnPfnX",
        "outputId": "e67c1191-c594-4a4a-aba3-2bc0abee7dd6"
      },
      "source": [
        "element=json.dumps(dict(zip(X_train.columns.values, np.zeros(X_train.shape[0]).astype(int).tolist())), indent=4)\n",
        "print(element)"
      ],
      "execution_count": 151,
      "outputs": [
        {
          "output_type": "stream",
          "text": [
            "{\n",
            "    \"Condo\": 0,\n",
            "    \"Size\": 0,\n",
            "    \"Rooms\": 0,\n",
            "    \"Toilets\": 0,\n",
            "    \"Suites\": 0,\n",
            "    \"Parking\": 0,\n",
            "    \"Elevator\": 0,\n",
            "    \"Furnished\": 0,\n",
            "    \"Swimming Pool\": 0,\n",
            "    \"New\": 0,\n",
            "    \"price_per_m2\": 0,\n",
            "    \"District_Alto de Pinheiros\": 0,\n",
            "    \"District_Anhanguera\": 0,\n",
            "    \"District_Aricanduva\": 0,\n",
            "    \"District_Artur Alvim\": 0,\n",
            "    \"District_Barra Funda\": 0,\n",
            "    \"District_Bela Vista\": 0,\n",
            "    \"District_Bel\\u00e9m\": 0,\n",
            "    \"District_Bom Retiro\": 0,\n",
            "    \"District_Brasil\\u00e2ndia\": 0,\n",
            "    \"District_Brooklin\": 0,\n",
            "    \"District_Br\\u00e1s\": 0,\n",
            "    \"District_Butant\\u00e3\": 0,\n",
            "    \"District_Cachoeirinha\": 0,\n",
            "    \"District_Cambuci\": 0,\n",
            "    \"District_Campo Belo\": 0,\n",
            "    \"District_Campo Grande\": 0,\n",
            "    \"District_Campo Limpo\": 0,\n",
            "    \"District_Canga\\u00edba\": 0,\n",
            "    \"District_Cap\\u00e3o Redondo\": 0,\n",
            "    \"District_Carr\\u00e3o\": 0,\n",
            "    \"District_Casa Verde\": 0,\n",
            "    \"District_Cidade Ademar\": 0,\n",
            "    \"District_Cidade Dutra\": 0,\n",
            "    \"District_Cidade L\\u00edder\": 0,\n",
            "    \"District_Cidade Tiradentes\": 0,\n",
            "    \"District_Consola\\u00e7\\u00e3o\": 0,\n",
            "    \"District_Cursino\": 0,\n",
            "    \"District_Ermelino Matarazzo\": 0,\n",
            "    \"District_Freguesia do \\u00d3\": 0,\n",
            "    \"District_Graja\\u00fa\": 0,\n",
            "    \"District_Guaianazes\": 0,\n",
            "    \"District_Iguatemi\": 0,\n",
            "    \"District_Ipiranga\": 0,\n",
            "    \"District_Itaim Bibi\": 0,\n",
            "    \"District_Itaim Paulista\": 0,\n",
            "    \"District_Itaquera\": 0,\n",
            "    \"District_Jabaquara\": 0,\n",
            "    \"District_Jaguar\\u00e9\": 0,\n",
            "    \"District_Jaragu\\u00e1\": 0,\n",
            "    \"District_Jardim Helena\": 0,\n",
            "    \"District_Jardim Paulista\": 0,\n",
            "    \"District_Jardim S\\u00e3o Luis\": 0,\n",
            "    \"District_Jardim \\u00c2ngela\": 0,\n",
            "    \"District_Ja\\u00e7an\\u00e3\": 0,\n",
            "    \"District_Jos\\u00e9 Bonif\\u00e1cio\": 0,\n",
            "    \"District_Lajeado\": 0,\n",
            "    \"District_Lapa\": 0,\n",
            "    \"District_Liberdade\": 0,\n",
            "    \"District_Lim\\u00e3o\": 0,\n",
            "    \"District_Mandaqui\": 0,\n",
            "    \"District_Medeiros\": 0,\n",
            "    \"District_Moema\": 0,\n",
            "    \"District_Mooca\": 0,\n",
            "    \"District_Morumbi\": 0,\n",
            "    \"District_Pari\": 0,\n",
            "    \"District_Parque do Carmo\": 0,\n",
            "    \"District_Pedreira\": 0,\n",
            "    \"District_Penha\": 0,\n",
            "    \"District_Perdizes\": 0,\n",
            "    \"District_Perus\": 0,\n",
            "    \"District_Pinheiros\": 0,\n",
            "    \"District_Pirituba\": 0,\n",
            "    \"District_Ponte Rasa\": 0,\n",
            "    \"District_Raposo Tavares\": 0,\n",
            "    \"District_Rep\\u00fablica\": 0,\n",
            "    \"District_Rio Pequeno\": 0,\n",
            "    \"District_Sacom\\u00e3\": 0,\n",
            "    \"District_Santa Cec\\u00edlia\": 0,\n",
            "    \"District_Santana\": 0,\n",
            "    \"District_Santo Amaro\": 0,\n",
            "    \"District_Sapopemba\": 0,\n",
            "    \"District_Sa\\u00fade\": 0,\n",
            "    \"District_Socorro\": 0,\n",
            "    \"District_S\\u00e3o Domingos\": 0,\n",
            "    \"District_S\\u00e3o Lucas\": 0,\n",
            "    \"District_S\\u00e3o Mateus\": 0,\n",
            "    \"District_S\\u00e3o Miguel\": 0,\n",
            "    \"District_S\\u00e3o Rafael\": 0,\n",
            "    \"District_S\\u00e9\": 0,\n",
            "    \"District_Tatuap\\u00e9\": 0,\n",
            "    \"District_Trememb\\u00e9\": 0,\n",
            "    \"District_Tucuruvi\": 0,\n",
            "    \"District_Vila Andrade\": 0,\n",
            "    \"District_Vila Curu\\u00e7\\u00e1\": 0,\n",
            "    \"District_Vila Formosa\": 0,\n",
            "    \"District_Vila Guilherme\": 0,\n",
            "    \"District_Vila Jacu\\u00ed\": 0,\n",
            "    \"District_Vila Leopoldina\": 0,\n",
            "    \"District_Vila Madalena\": 0,\n",
            "    \"District_Vila Maria\": 0,\n",
            "    \"District_Vila Mariana\": 0,\n",
            "    \"District_Vila Matilde\": 0,\n",
            "    \"District_Vila Olimpia\": 0,\n",
            "    \"District_Vila Prudente\": 0,\n",
            "    \"District_Vila S\\u00f4nia\": 0,\n",
            "    \"District_\\u00c1gua Rasa\": 0,\n",
            "    \"Negotiation Type_rent\": 0,\n",
            "    \"Negotiation Type_sale\": 0\n",
            "}\n"
          ],
          "name": "stdout"
        }
      ]
    },
    {
      "cell_type": "code",
      "metadata": {
        "colab": {
          "base_uri": "https://localhost:8080/"
        },
        "id": "NxnVupVIcxnc",
        "outputId": "47749a6c-8335-4509-ba0e-66c6c4d07796"
      },
      "source": [
        "pipeline.predict([[ 500, 50, 4, 3,    2,    1,    0,    0,    1,    0, 5000,    0,    0,    0,\n",
        "     0,    0,    0,     0,   0,    0,    0,    0,    0,    0,    0,    0,    0,    0,\n",
        "     0,    0,    0,     0,   0,    0,    0,    0,    0,    0,    0,    0,    0,    0,\n",
        "     0,    0,    0,     0,   0,    0,    0,    0,    0,    0,    0,    0,    0,    0,\n",
        "     0,    0,    0,     0,   0,    0,    0,    0,    1,    0,    0,    0,    0,    0,\n",
        "     0,    0,    0,     0,   0,    0,    0,    0,    0,    0,    0,    0,    0,    0,\n",
        "     0,    0,    0,     0,   0,    0,    0,    0,    0,    0,    0,    0,    0,    0,\n",
        "     0,    0,    0,     0,   0,    0,    0,    0,    0,    0,    1]])"
      ],
      "execution_count": 176,
      "outputs": [
        {
          "output_type": "execute_result",
          "data": {
            "text/plain": [
              "array([248783.05], dtype=float32)"
            ]
          },
          "metadata": {
            "tags": []
          },
          "execution_count": 176
        }
      ]
    },
    {
      "cell_type": "code",
      "metadata": {
        "id": "TxsoNL4AeGvS"
      },
      "source": [
        ""
      ],
      "execution_count": null,
      "outputs": []
    }
  ]
}